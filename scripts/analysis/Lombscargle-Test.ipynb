{
 "cells": [
  {
   "cell_type": "markdown",
   "metadata": {},
   "source": [
    "# Lombscargle CSD\n",
    "\n",
    "First part of this notebook looks at scipy versions which are a bit loose with the maths and don't preserve the complex nature of the periodogram. \n",
    "\n",
    "Second part is me defining my own lombscargle and testing effects with various irregularly sampled data\n",
    "\n",
    "Results: Signal peaks are quite invariant but the noise floor does interesting things with lombscargle depending on which samples are missing from a dataset."
   ]
  },
  {
   "cell_type": "code",
   "execution_count": null,
   "metadata": {},
   "outputs": [],
   "source": [
    "import numpy\n",
    "import matplotlib.pyplot as plt\n",
    "from scipy.signal.spectral import lombscargle"
   ]
  },
  {
   "cell_type": "markdown",
   "metadata": {},
   "source": [
    "# Test with Artificial Signal\n",
    "\n",
    "Start with regularly sampled signal"
   ]
  },
  {
   "cell_type": "code",
   "execution_count": null,
   "metadata": {},
   "outputs": [],
   "source": [
    "xvar = numpy.arange(0,128,1.0)\n",
    "\n",
    "fft = numpy.zeros(shape=(128),dtype=numpy.complex128)\n",
    "lmb = numpy.zeros(shape=(64))\n",
    "# Test averaging\n",
    "averages = 1000\n",
    "for i in numpy.arange(averages):\n",
    "\n",
    "    sine_test = numpy.sin(2*numpy.pi * 0.04 * xvar) + numpy.random.randn(128)/5 +numpy.sin(2*numpy.pi * 0.08 * xvar)\n",
    "\n",
    "    #plt.plot(xvar,sine_test)\n",
    "    #plt.show()\n",
    "\n",
    "    hamm_sine = numpy.hamming(128) * sine_test\n",
    "    ## FFT\n",
    "    fft += numpy.fft.fft(hamm_sine)/128\n",
    "    freqs = numpy.fft.fftfreq(len(fft))\n",
    "    \n",
    "    ## Lombscargle\n",
    "    freqs = numpy.arange(0.0001,1.28,0.02)\n",
    "    lmb += lombscargle(xvar, hamm_sine,freqs)\n",
    "\n",
    "    \n",
    "plt.semilogy(xvar,numpy.abs(fft/averages))\n",
    "plt.semilogy(numpy.arange(0,64,1),numpy.abs(lmb/averages))\n"
   ]
  },
  {
   "cell_type": "markdown",
   "metadata": {},
   "source": [
    "## Irregularly Sampled Signal\n",
    "\n",
    "A single flagged out channel"
   ]
  },
  {
   "cell_type": "code",
   "execution_count": null,
   "metadata": {},
   "outputs": [],
   "source": [
    "randn = numpy.random.randint(0,128)\n",
    "fft = numpy.zeros(shape=(128),dtype=numpy.complex128)\n",
    "lmb = numpy.zeros(shape=(64))\n",
    "averages=1000\n",
    "for i in numpy.arange(averages):\n",
    "\n",
    "    sine_test = numpy.sin(2*numpy.pi * 0.04 * xvar) + numpy.random.randn(128)/5+numpy.sin(2*numpy.pi * 0.06 * xvar)\n",
    "    hamm_sine = numpy.hamming(128) * sine_test\n",
    "    hamm_sine_test_fft = hamm_sine.copy()\n",
    "    \n",
    "    hamm_sine_test_fft[randn] = 0.0\n",
    "    hamm_sine_test_lmb = hamm_sine.copy()\n",
    "    hamm_sine_test_lmb = numpy.delete(hamm_sine_test_lmb,randn)\n",
    "    xvar_lmb = xvar.copy()\n",
    "    xvar_lmb = numpy.delete(xvar_lmb, randn)\n",
    "    #plt.plot(xvar,sine_test)\n",
    "    #plt.show()\n",
    "\n",
    "    \n",
    "    ## FFT\n",
    "    fft += numpy.fft.fft(hamm_sine_test_fft)/128\n",
    "    freqs = numpy.fft.fftfreq(len(fft))\n",
    "    \n",
    "    ## Lombscargle\n",
    "    freqs = numpy.arange(0.0001,0.64,0.01)\n",
    "    lmb += lombscargle(xvar_lmb, hamm_sine_test_lmb,freqs)/128\n",
    "\n",
    "    \n",
    "plt.semilogy(xvar,numpy.square(numpy.abs(fft/averages)))    \n",
    "plt.semilogy(numpy.arange(0,64,1),numpy.abs(lmb/averages))"
   ]
  },
  {
   "cell_type": "markdown",
   "metadata": {},
   "source": [
    "# Scipy Lombscargle doesn't look quite right..\n",
    "\n",
    "Try doing it manually. Start with classical periodogram."
   ]
  },
  {
   "cell_type": "code",
   "execution_count": null,
   "metadata": {},
   "outputs": [],
   "source": [
    "def classical_periodogram(x,y,freqs):\n",
    "    #x = x.astype(int)\n",
    "    out = numpy.zeros(shape=freqs.shape[0],dtype=numpy.complex64)\n",
    "    for i in range(freqs.shape[0]):\n",
    "        \n",
    "        xe = 0.0 + 1j * 0.0\n",
    "        \n",
    "        \n",
    "        for j in range(x.shape[0]):\n",
    "            \n",
    "            e = numpy.exp(1j * freqs[i] * x[j])\n",
    "            xe += y[j] * e\n",
    "        #print xe\n",
    "        out[i] = xe / y.shape[0]\n",
    "    return out\n",
    "            "
   ]
  },
  {
   "cell_type": "code",
   "execution_count": null,
   "metadata": {},
   "outputs": [],
   "source": [
    "averages = 1000\n",
    "freqs = numpy.arange(0.0001,0.64,0.01)\n",
    "xvar = numpy.arange(0.0,128.0,1.0)\n",
    "agg_periodogram = numpy.zeros(freqs.shape[0],dtype=numpy.complex128)\n",
    "agg_fft = numpy.zeros(xvar.shape[0],dtype=numpy.complex128)\n",
    "\n",
    "for i in numpy.arange(averages):\n",
    "    \n",
    "    sine_test = numpy.sin(2*numpy.pi * 0.04 * xvar) + numpy.random.randn(128)/5+numpy.sin(2*numpy.pi * 0.06 * xvar)\n",
    "    hamm_sine = numpy.hamming(sine_test.shape[0]) * sine_test\n",
    "    \n",
    "    agg_fft += numpy.fft.fft(hamm_sine)/128\n",
    "    agg_periodogram += classical_periodogram(xvar,hamm_sine,freqs)\n",
    "    \n",
    "print(agg_periodogram)\n",
    "plt.semilogy(numpy.arange(0,64,1),numpy.abs(agg_periodogram/averages))\n",
    "plt.semilogy(xvar,numpy.abs(agg_fft/averages))\n",
    "    "
   ]
  },
  {
   "cell_type": "markdown",
   "metadata": {},
   "source": [
    "Much better, now try doing it with lombscargle.."
   ]
  },
  {
   "cell_type": "code",
   "execution_count": null,
   "metadata": {},
   "outputs": [],
   "source": [
    "# As described in equation 33 off VanderPlas - Understanding the Lomb-Scargle Periodogram\n",
    "def my_lombscargle(x,y,freqs):\n",
    "    #x = x.astype(int)\n",
    "    out = numpy.zeros(shape=freqs.shape[0],dtype=numpy.complex128)\n",
    "    for i in range(freqs.shape[0]):\n",
    "        \n",
    "        tau = 0.0\n",
    "        sin = 0.0\n",
    "        cos = 0.0\n",
    "        \n",
    "        for j in range(x.shape[0]):\n",
    "            \n",
    "            sin += numpy.sin(4 * numpy.pi * freqs[i] * x[j])\n",
    "            cos += numpy.cos(4 * numpy.pi * freqs[i] * x[j])\n",
    "            \n",
    "        tau = numpy.arctan(sin/cos)\n",
    "        tau = tau * (1/(4 * numpy.pi * freqs[i]))\n",
    "        #print(tau)\n",
    "        a_num = 0.0\n",
    "        a_denom = 0.0\n",
    "        \n",
    "        b_num = 0.0\n",
    "        b_denom = 0.0\n",
    "        \n",
    "        \n",
    "            \n",
    "        for j in range(x.shape[0]):\n",
    "            \n",
    "            a_num += y[j] * numpy.cos(2 * numpy.pi * freqs[i]*(x[j] - tau))\n",
    "            a_denom += numpy.square(numpy.cos(2 * numpy.pi * freqs[i]*(x[j] - tau)))\n",
    "            \n",
    "            b_num += y[j] * numpy.sin(2 * numpy.pi * freqs[i]*(x[j] - tau))\n",
    "            b_denom += numpy.square(numpy.sin(2 * numpy.pi * freqs[i]*(x[j] - tau)))\n",
    "            \n",
    "            \n",
    "        comp_out = (a_num/a_denom) + 1j*(b_num/b_denom)\n",
    "            \n",
    "        #print xe\n",
    "        out[i] = comp_out / 2\n",
    "    return out"
   ]
  },
  {
   "cell_type": "markdown",
   "metadata": {},
   "source": [
    "Test with regularly sampled data firstly."
   ]
  },
  {
   "cell_type": "code",
   "execution_count": null,
   "metadata": {},
   "outputs": [],
   "source": [
    "averages = 10\n",
    "freqs = numpy.arange(0.0001,0.16,0.00025)\n",
    "xvar = numpy.arange(0.0,128.0,1.0)\n",
    "agg_periodogram = numpy.zeros(freqs.shape[0],dtype=numpy.complex128)\n",
    "agg_fft = numpy.zeros(xvar.shape[0],dtype=numpy.complex128)\n",
    "agg_lmb = numpy.zeros(freqs.shape[0],dtype=numpy.complex128)\n",
    "for i in numpy.arange(averages):\n",
    "    \n",
    "    sine_test = numpy.sin(2*numpy.pi * 0.04 * xvar) + numpy.random.randn(128)/5+numpy.sin(2*numpy.pi * 0.08 * xvar)\n",
    "    hamm_sine = numpy.hamming(sine_test.shape[0]) * sine_test\n",
    "    \n",
    "    agg_fft += numpy.fft.fft(hamm_sine)/128\n",
    "    agg_periodogram += classical_periodogram(xvar, hamm_sine,freqs)\n",
    "    agg_lmb += my_lombscargle(xvar,hamm_sine,freqs)\n",
    "    \n",
    "#print(agg_periodogram)\n",
    "\n",
    "plt.semilogy(freqs,numpy.abs(agg_lmb)/averages)\n",
    "plt.semilogy(freqs,numpy.abs(agg_periodogram)/averages)\n",
    "#plt.semilogy(xvar,numpy.abs(agg_fft/averages))"
   ]
  },
  {
   "cell_type": "markdown",
   "metadata": {},
   "source": [
    "# Test with Irregularly Sampled Data\n",
    "\n",
    "Here we remove 3 random samples for 3 different runs to look at effects. \n",
    "\n",
    "Result: Signal peaks seem quite invariant. Noise does weird stuff. "
   ]
  },
  {
   "cell_type": "code",
   "execution_count": null,
   "metadata": {},
   "outputs": [],
   "source": [
    "for k in numpy.arange(3):\n",
    "\n",
    "    averages = 10\n",
    "    freqs = numpy.arange(0.0001,0.16,0.00025)\n",
    "    xvar = numpy.arange(0.0,128.0,1.0)\n",
    "\n",
    "    agg_lmb = numpy.zeros(freqs.shape[0],dtype=numpy.complex128)\n",
    "\n",
    "\n",
    "    smp = 1\n",
    "    randn = numpy.random.choice(numpy.arange(0,128),smp,replace=False)\n",
    "    print(randn.shape)\n",
    "    print(randn)\n",
    "    xvar = numpy.delete(xvar,randn)\n",
    "    print(xvar.shape)\n",
    "\n",
    "    for i in numpy.arange(averages):\n",
    "    \n",
    "        sine_test = numpy.sin(2*numpy.pi * 0.04 * xvar) + numpy.random.randn(128-smp)/5+numpy.sin(2*numpy.pi * 0.08 * xvar)\n",
    "        hamm_sine = numpy.hamming(sine_test.shape[0]) * sine_test\n",
    "    \n",
    "        agg_lmb += my_lombscargle(xvar,hamm_sine,freqs)\n",
    "    \n",
    "#print(agg_periodogram)\n",
    "\n",
    "\n",
    "\n",
    "    plt.semilogy(freqs,numpy.abs(agg_lmb))\n"
   ]
  },
  {
   "cell_type": "markdown",
   "metadata": {},
   "source": [
    "# Lombscargle Cross-Spectral Density\n",
    "\n",
    "Artificial Example. Two Sine Signals"
   ]
  },
  {
   "cell_type": "code",
   "execution_count": null,
   "metadata": {},
   "outputs": [],
   "source": [
    "averages = 10\n",
    "freqs = numpy.arange(0.0001,0.16,0.00025)\n",
    "xvar = numpy.arange(0.0,128.0,1.0)\n",
    "\n",
    "agg_lmb = numpy.zeros(freqs.shape[0],dtype=numpy.complex128)\n",
    "agg_lmb2 = numpy.zeros(freqs.shape[0],dtype=numpy.complex128)\n",
    "\n",
    "randn = numpy.random.choice(numpy.arange(0,128),40,replace=False)\n",
    "print(randn.shape)\n",
    "print(randn)\n",
    "xvar = numpy.delete(xvar,randn)\n",
    "print(xvar.shape)\n",
    "\n",
    "for i in numpy.arange(averages):\n",
    "    \n",
    "    sine_test = numpy.sin(2*numpy.pi * 0.04 * xvar) + numpy.random.randn(128-40)/5+numpy.sin(2*numpy.pi * 0.08 * xvar)\n",
    "    sine_test2 = numpy.sin(2*numpy.pi * 0.04 * xvar) + numpy.random.randn(128-40)/5+numpy.sin(2*numpy.pi * 0.06 * xvar)\n",
    "    hamm_sine = numpy.hamming(sine_test.shape[0]) * sine_test\n",
    "    hamm_sine2 = numpy.hamming(sine_test2.shape[0]) * sine_test2\n",
    "    agg_lmb += my_lombscargle(xvar,hamm_sine,freqs)\n",
    "    agg_lmb2 += my_lombscargle(xvar,hamm_sine2,freqs)\n",
    "    \n",
    "    \n",
    "#print(agg_periodogram)\n",
    "plt.semilogy(freqs,numpy.abs(agg_lmb))\n",
    "plt.semilogy(freqs,numpy.abs(agg_lmb2))\n",
    "plt.semilogy(freqs,numpy.abs(agg_lmb * numpy.conjugate(agg_lmb2)))\n",
    "\n"
   ]
  },
  {
   "cell_type": "code",
   "execution_count": null,
   "metadata": {},
   "outputs": [],
   "source": []
  }
 ],
 "metadata": {
  "kernelspec": {
   "display_name": "Python 2",
   "language": "python",
   "name": "python2"
  },
  "language_info": {
   "codemirror_mode": {
    "name": "ipython",
    "version": 2
   },
   "file_extension": ".py",
   "mimetype": "text/x-python",
   "name": "python",
   "nbconvert_exporter": "python",
   "pygments_lexer": "ipython2",
   "version": "2.7.15"
  }
 },
 "nbformat": 4,
 "nbformat_minor": 2
}
