{
 "cells": [
  {
   "cell_type": "code",
   "execution_count": null,
   "metadata": {},
   "outputs": [],
   "source": [
    "import numpy\n",
    "import matplotlib.pyplot as plt\n",
    "from scipy.signal.spectral import lombscargle"
   ]
  },
  {
   "cell_type": "markdown",
   "metadata": {},
   "source": [
    "# Test with Artificial Signal\n",
    "\n",
    "Start with regularly sampled signal"
   ]
  },
  {
   "cell_type": "code",
   "execution_count": null,
   "metadata": {},
   "outputs": [],
   "source": [
    "xvar = numpy.arange(0,128,1.0)\n",
    "\n",
    "fft = numpy.zeros(shape=(128),dtype=numpy.complex128)\n",
    "lmb = numpy.zeros(shape=(64))\n",
    "# Test averaging\n",
    "averages = 1000\n",
    "for i in numpy.arange(averages):\n",
    "\n",
    "    sine_test = numpy.sin(2*numpy.pi * 0.04 * xvar) + numpy.random.randn(128)/5 +numpy.sin(2*numpy.pi * 0.08 * xvar)\n",
    "\n",
    "    #plt.plot(xvar,sine_test)\n",
    "    #plt.show()\n",
    "\n",
    "    hamm_sine = numpy.hamming(128) * sine_test\n",
    "    ## FFT\n",
    "    fft += numpy.fft.fft(hamm_sine)/128\n",
    "    freqs = numpy.fft.fftfreq(len(fft))\n",
    "    \n",
    "    ## Lombscargle\n",
    "    freqs = numpy.arange(0.0001,1.28,0.02)\n",
    "    lmb += lombscargle(xvar, hamm_sine,freqs)\n",
    "\n",
    "    \n",
    "plt.semilogy(xvar,numpy.square(numpy.abs(fft/averages)))    \n",
    "plt.semilogy(numpy.arange(0,64,1),numpy.abs(lmb/averages))\n"
   ]
  },
  {
   "cell_type": "markdown",
   "metadata": {},
   "source": [
    "## Irregularly Sampled Signal\n",
    "\n",
    "A single flagged out channel"
   ]
  },
  {
   "cell_type": "code",
   "execution_count": null,
   "metadata": {},
   "outputs": [],
   "source": [
    "randn = numpy.random.randint(0,128)\n",
    "fft = numpy.zeros(shape=(128),dtype=numpy.complex128)\n",
    "lmb = numpy.zeros(shape=(64))\n",
    "averages=1000\n",
    "for i in numpy.arange(averages):\n",
    "\n",
    "    sine_test = numpy.sin(2*numpy.pi * 0.04 * xvar) + numpy.random.randn(128)/5+numpy.sin(2*numpy.pi * 0.06 * xvar)\n",
    "    hamm_sine = numpy.hamming(128) * sine_test\n",
    "    hamm_sine_test_fft = hamm_sine.copy()\n",
    "    \n",
    "    hamm_sine_test_fft[randn] = 0.0\n",
    "    hamm_sine_test_lmb = hamm_sine.copy()\n",
    "    hamm_sine_test_lmb = numpy.delete(hamm_sine_test_lmb,randn)\n",
    "    xvar_lmb = xvar.copy()\n",
    "    xvar_lmb = numpy.delete(xvar_lmb, randn)\n",
    "    #plt.plot(xvar,sine_test)\n",
    "    #plt.show()\n",
    "\n",
    "    \n",
    "    ## FFT\n",
    "    fft += numpy.fft.fft(hamm_sine_test_fft)/128\n",
    "    freqs = numpy.fft.fftfreq(len(fft))\n",
    "    \n",
    "    ## Lombscargle\n",
    "    freqs = numpy.arange(0.0001,0.64,0.01)\n",
    "    lmb += lombscargle(xvar_lmb, hamm_sine_test_lmb,freqs)/128\n",
    "\n",
    "    \n",
    "plt.semilogy(xvar,numpy.square(numpy.abs(fft/averages)))    \n",
    "plt.semilogy(numpy.arange(0,64,1),numpy.abs(lmb/averages))"
   ]
  }
 ],
 "metadata": {
  "kernelspec": {
   "display_name": "Python 2",
   "language": "python",
   "name": "python2"
  },
  "language_info": {
   "codemirror_mode": {
    "name": "ipython",
    "version": 2
   },
   "file_extension": ".py",
   "mimetype": "text/x-python",
   "name": "python",
   "nbconvert_exporter": "python",
   "pygments_lexer": "ipython2",
   "version": "2.7.15"
  }
 },
 "nbformat": 4,
 "nbformat_minor": 2
}
