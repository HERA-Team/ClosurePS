{
 "cells": [
  {
   "cell_type": "code",
   "execution_count": null,
   "metadata": {},
   "outputs": [],
   "source": [
    "import numpy\n",
    "import matplotlib.pyplot as plt\n",
    "from scipy.signal.spectral import lombscargle"
   ]
  },
  {
   "cell_type": "markdown",
   "metadata": {},
   "source": [
    "# Test with Artificial Signal\n",
    "\n",
    "Start with regularly sampled signal"
   ]
  },
  {
   "cell_type": "code",
   "execution_count": null,
   "metadata": {},
   "outputs": [],
   "source": [
    "xvar = numpy.arange(0,128,1.0)\n",
    "\n",
    "fft = numpy.zeros(shape=(128),dtype=numpy.complex128)\n",
    "lmb = numpy.zeros(shape=(64))\n",
    "# Test averaging\n",
    "averages = 10\n",
    "for i in numpy.arange(averages):\n",
    "\n",
    "    sine_test = numpy.sin(2*numpy.pi * 0.04 * xvar) + numpy.random.randn(128)/5 +numpy.sin(2*numpy.pi * 0.08 * xvar)\n",
    "\n",
    "    #plt.plot(xvar,sine_test)\n",
    "    #plt.show()\n",
    "\n",
    "    hamm_sine = numpy.hamming(128) * sine_test\n",
    "    ## FFT\n",
    "    fft += numpy.fft.fft(hamm_sine)/128\n",
    "    freqs = numpy.fft.fftfreq(len(fft))\n",
    "    \n",
    "    ## Lombscargle\n",
    "    freqs = numpy.arange(0.0001,0.64,0.01)\n",
    "    lmb += lombscargle(xvar, hamm_sine,freqs)\n",
    "\n",
    "    \n",
    "plt.semilogy(xvar,numpy.square(numpy.abs(fft/averages)))    \n",
    "plt.semilogy(numpy.arange(0,64,1),numpy.abs(lmb/averages))\n"
   ]
  },
  {
   "cell_type": "markdown",
   "metadata": {},
   "source": [
    "## Irregularly Sampled Signal\n",
    "\n",
    "A single flagged out channel"
   ]
  },
  {
   "cell_type": "code",
   "execution_count": null,
   "metadata": {},
   "outputs": [],
   "source": [
    "randn = numpy.random.randint(0,128)\n",
    "fft = numpy.zeros(shape=(128),dtype=numpy.complex128)\n",
    "lmb = numpy.zeros(shape=(64))\n",
    "averages=1000\n",
    "for i in numpy.arange(averages):\n",
    "\n",
    "    sine_test = numpy.sin(2*numpy.pi * 0.04 * xvar) + numpy.random.randn(128)/5+numpy.sin(2*numpy.pi * 0.06 * xvar)\n",
    "    hamm_sine = numpy.hamming(128) * sine_test\n",
    "    hamm_sine_test_fft = hamm_sine.copy()\n",
    "    \n",
    "    hamm_sine_test_fft[randn] = 0.0\n",
    "    hamm_sine_test_lmb = hamm_sine.copy()\n",
    "    hamm_sine_test_lmb = numpy.delete(hamm_sine_test_lmb,randn)\n",
    "    xvar_lmb = xvar.copy()\n",
    "    xvar_lmb = numpy.delete(xvar_lmb, randn)\n",
    "    #plt.plot(xvar,sine_test)\n",
    "    #plt.show()\n",
    "\n",
    "    \n",
    "    ## FFT\n",
    "    fft += numpy.fft.fft(hamm_sine_test_fft)/128\n",
    "    freqs = numpy.fft.fftfreq(len(fft))\n",
    "    \n",
    "    ## Lombscargle\n",
    "    freqs = numpy.arange(0.0001,0.64,0.01)\n",
    "    lmb += lombscargle(xvar_lmb, hamm_sine_test_lmb,freqs)/128\n",
    "\n",
    "    \n",
    "plt.semilogy(xvar,numpy.square(numpy.abs(fft/averages)))    \n",
    "plt.semilogy(numpy.arange(0,64,1),numpy.abs(lmb/averages))"
   ]
  },
  {
   "cell_type": "code",
   "execution_count": null,
   "metadata": {},
   "outputs": [],
   "source": [
    "%run procps.py\n",
    "%run plotprelude.py"
   ]
  },
  {
   "cell_type": "code",
   "execution_count": null,
   "metadata": {},
   "outputs": [],
   "source": [
    "def lombscarglecsd(x1, x2, y1, y2, freqs, precenter=False, normalize=False):\n",
    "    \"\"\"\n",
    "    \"\"\"\n",
    "    assert(x1 is x2)\n",
    "    assert(x1.ndim == 1)\n",
    "    assert(y1.ndim == 1)\n",
    "    assert(freqs.ndim==1)\n",
    "\n",
    "    pgram1 = lombscargle(x1, y1 - y1.mean(), freqs,precenter=precenter,normalize=normalize)\n",
    "    pgram2 = lombscargle(x2, y2 - y2.mean(), freqs,precenter=precenter,normalize=normalize)\n",
    "\n",
    "    if normalize:\n",
    "        pgram1 *= 2 / np.dot(y1,y1)\n",
    "        pgram2 *= 2 / np.dot(y2,y2)\n",
    "\n",
    "    return numpy.conjugate(pgram1) * pgram2 # I assume this still holds for the lombscargle periodgram?\n"
   ]
  },
  {
   "cell_type": "code",
   "execution_count": null,
   "metadata": {},
   "outputs": [],
   "source": [
    "fin = numpy.load(\"/rds/project/bn204/rds-bn204-asterics/jck42/BiSpectrum/Binned_Data/EQ14/XX/output_bin.npz\")\n",
    "cl = fin['closures']\n",
    "\n",
    "eq14_1 = mdays(cl[:,0:8], 1)\n",
    "eq14_2 = mdays(cl[:,8:], 1)\n",
    "eq14 = numpy.concatenate((eq14_1, eq14_2), axis=1)\n",
    "\n"
   ]
  },
  {
   "cell_type": "code",
   "execution_count": null,
   "metadata": {},
   "outputs": [],
   "source": [
    "x1=psXmedCTimCTri(numpy.exp(1j*(eq14[100:250,:,:,515:775])),\n",
    "                       window=\"hamming\")\n",
    "pp_ps(x1,title=\"EQ14, XX, Times 100:250, Chans 515:775\")"
   ]
  },
  {
   "cell_type": "code",
   "execution_count": null,
   "metadata": {},
   "outputs": [],
   "source": [
    "# Try zeroing some channels\n",
    "\n",
    "eq14c = eq14.copy()\n",
    "eq14c[:,:,:,560] = 0.0\n",
    "x1=psXmedCTimCTri(numpy.exp(1j*(eq14c[100:250,:,:,515:775])),\n",
    "                       window=\"hamming\")\n",
    "pp_ps(x1,title=\"EQ14, XX, Times 100:250, Chans 515:775\")"
   ]
  },
  {
   "cell_type": "code",
   "execution_count": null,
   "metadata": {},
   "outputs": [],
   "source": [
    "#Try using lombscargle\n",
    "\n",
    "closure_subset = eq14c[100:250,:,:,515:775]\n",
    "closure_subset = numpy.delete(closure_subset, 45,axis=3)\n",
    "print(closure_subset.shape)\n",
    "\n",
    "xvar = numpy.arange(0,260).astype(float)\n",
    "xvar = numpy.delete(xvar,45)\n",
    "\n",
    "freqs = numpy.linspace(0.00000001,260,128).astype(float)\n",
    "\n",
    "\n",
    "print(closure_subset[:,0,2,:].shape)\n",
    "lmb = lombscargle(xvar, closure_subset[75,0,2,:],freqs)\n",
    "lmbcsd = lombscarglecsd(xvar,xvar,closure_subset[75,0,2,:],closure_subset[75,1,2,:],freqs)\n",
    "\n",
    "pp_ps(lmbcsd)\n",
    "pp_ps(lmb)"
   ]
  },
  {
   "cell_type": "code",
   "execution_count": null,
   "metadata": {},
   "outputs": [],
   "source": []
  }
 ],
 "metadata": {
  "kernelspec": {
   "display_name": "Python 2",
   "language": "python",
   "name": "python2"
  },
  "language_info": {
   "codemirror_mode": {
    "name": "ipython",
    "version": 2
   },
   "file_extension": ".py",
   "mimetype": "text/x-python",
   "name": "python",
   "nbconvert_exporter": "python",
   "pygments_lexer": "ipython2",
   "version": "2.7.15"
  }
 },
 "nbformat": 4,
 "nbformat_minor": 2
}
