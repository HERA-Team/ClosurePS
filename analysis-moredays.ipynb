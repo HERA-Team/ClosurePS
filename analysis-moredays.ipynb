{
 "cells": [
  {
   "cell_type": "code",
   "execution_count": 2,
   "metadata": {},
   "outputs": [
    {
     "ename": "IOError",
     "evalue": "[Errno 2] No such file or directory: '/rds/project/bn204/rds-bn204-asterics/jck42/BiSpectrum/Binned_Data_FornaxA/EQ28/YY/output_bin.npz'",
     "output_type": "error",
     "traceback": [
      "\u001b[0;31m---------------------------------------------------------------------------\u001b[0m",
      "\u001b[0;31mIOError\u001b[0m                                   Traceback (most recent call last)",
      "\u001b[0;32m<ipython-input-2-2f7e6e5f24f6>\u001b[0m in \u001b[0;36m<module>\u001b[0;34m()\u001b[0m\n\u001b[1;32m      3\u001b[0m \u001b[0;34m\u001b[0m\u001b[0m\n\u001b[1;32m      4\u001b[0m \u001b[0mfin_eq28yy\u001b[0m\u001b[0;34m=\u001b[0m\u001b[0mnumpy\u001b[0m\u001b[0;34m.\u001b[0m\u001b[0mload\u001b[0m\u001b[0;34m(\u001b[0m\u001b[0;34m\"/rds/project/bn204/rds-bn204-asterics/jck42/BiSpectrum/Binned_Data_IDR2/EQ28/YY/output_bin.npz\"\u001b[0m\u001b[0;34m)\u001b[0m\u001b[0;34m\u001b[0m\u001b[0m\n\u001b[0;32m----> 5\u001b[0;31m \u001b[0mfin_eq28yy_50days\u001b[0m\u001b[0;34m=\u001b[0m\u001b[0mnumpy\u001b[0m\u001b[0;34m.\u001b[0m\u001b[0mload\u001b[0m\u001b[0;34m(\u001b[0m\u001b[0;34m\"/rds/project/bn204/rds-bn204-asterics/jck42/BiSpectrum/Binned_Data_FornaxA/EQ28/YY/output_bin.npz\"\u001b[0m\u001b[0;34m)\u001b[0m\u001b[0;34m\u001b[0m\u001b[0m\n\u001b[0m",
      "\u001b[0;32m/home/jck42/conda/lib/python2.7/site-packages/numpy/lib/npyio.pyc\u001b[0m in \u001b[0;36mload\u001b[0;34m(file, mmap_mode, allow_pickle, fix_imports, encoding)\u001b[0m\n\u001b[1;32m    382\u001b[0m     \u001b[0mown_fid\u001b[0m \u001b[0;34m=\u001b[0m \u001b[0mFalse\u001b[0m\u001b[0;34m\u001b[0m\u001b[0m\n\u001b[1;32m    383\u001b[0m     \u001b[0;32mif\u001b[0m \u001b[0misinstance\u001b[0m\u001b[0;34m(\u001b[0m\u001b[0mfile\u001b[0m\u001b[0;34m,\u001b[0m \u001b[0mbasestring\u001b[0m\u001b[0;34m)\u001b[0m\u001b[0;34m:\u001b[0m\u001b[0;34m\u001b[0m\u001b[0m\n\u001b[0;32m--> 384\u001b[0;31m         \u001b[0mfid\u001b[0m \u001b[0;34m=\u001b[0m \u001b[0mopen\u001b[0m\u001b[0;34m(\u001b[0m\u001b[0mfile\u001b[0m\u001b[0;34m,\u001b[0m \u001b[0;34m\"rb\"\u001b[0m\u001b[0;34m)\u001b[0m\u001b[0;34m\u001b[0m\u001b[0m\n\u001b[0m\u001b[1;32m    385\u001b[0m         \u001b[0mown_fid\u001b[0m \u001b[0;34m=\u001b[0m \u001b[0mTrue\u001b[0m\u001b[0;34m\u001b[0m\u001b[0m\n\u001b[1;32m    386\u001b[0m     \u001b[0;32melif\u001b[0m \u001b[0mis_pathlib_path\u001b[0m\u001b[0;34m(\u001b[0m\u001b[0mfile\u001b[0m\u001b[0;34m)\u001b[0m\u001b[0;34m:\u001b[0m\u001b[0;34m\u001b[0m\u001b[0m\n",
      "\u001b[0;31mIOError\u001b[0m: [Errno 2] No such file or directory: '/rds/project/bn204/rds-bn204-asterics/jck42/BiSpectrum/Binned_Data_FornaxA/EQ28/YY/output_bin.npz'"
     ]
    }
   ],
   "source": [
    "import numpy\n",
    "import matplotlib.pyplot as plt\n",
    "\n",
    "fin_eq28yy=numpy.load(\"/rds/project/bn204/rds-bn204-asterics/jck42/BiSpectrum/Binned_Data_IDR2/EQ28/YY/output_bin.npz\")\n",
    "fin_eq28yy_50days=numpy.load(\"/rds/project/bn204/rds-bn204-asterics/jck42/BiSpectrum/Binned_Data_FornaxA/EQ28/YY/output_bin.npz\")"
   ]
  },
  {
   "cell_type": "code",
   "execution_count": null,
   "metadata": {},
   "outputs": [],
   "source": [
    "%run procps.py\n",
    "%run plotprelude.py"
   ]
  },
  {
   "cell_type": "code",
   "execution_count": null,
   "metadata": {},
   "outputs": [],
   "source": [
    "data_idr2 = fin_eq28yy['closures']\n",
    "data_50days = fin_eq28yy_50days['closures']\n"
   ]
  },
  {
   "cell_type": "code",
   "execution_count": null,
   "metadata": {},
   "outputs": [],
   "source": [
    "lst_idr2 = fin_eq28yy['last']\n",
    "lst_50days = fin_eq28yy_50days['last']"
   ]
  },
  {
   "cell_type": "code",
   "execution_count": null,
   "metadata": {},
   "outputs": [],
   "source": [
    "xc = numpy.arange(0,1024)\n",
    "print(lst_idr2[250,:])\n",
    "print(lst_50days[350,:])\n",
    "plt.plot(xc,data_50days[350,4,30,:])"
   ]
  },
  {
   "cell_type": "code",
   "execution_count": null,
   "metadata": {},
   "outputs": [],
   "source": [
    "#Medians for ever other Equilateral 28m triads: IDR2\n",
    "pp_eq28_1=mdays(data_idr2[:,0:8], 1)\n",
    "pp_eq28_2=mdays(data_idr2[:,8:], 1)\n",
    "pp_eq28_idr2=numpy.concatenate((pp_eq28_1, pp_eq28_2), axis=1) \n",
    "\n",
    "#Medians for ever other Equilateral 28m triads: IDR2\n",
    "#pp_eq28_50days=mdays(data_50days[:,0:25], 1,4)\n",
    "#pp_eq28_2=mdays(data_50days[:,25:], 1)\n",
    "#pp_eq28_50days=numpy.concatenate((pp_eq28_1, pp_eq28_2), axis=1) "
   ]
  },
  {
   "cell_type": "code",
   "execution_count": null,
   "metadata": {},
   "outputs": [],
   "source": [
    "#Medians for ever other Equilateral 28m triads: IDR2\n",
    "pp_eq28_1=mdays(data_50days[:,0:12],1)\n",
    "pp_eq28_2=mdays(data_50days[:,12:24],1)\n",
    "pp_eq28_3=mdays(data_50days[:,24:36],1)\n",
    "pp_eq28_4=mdays(data_50days[:,36:],1)\n",
    "#pp_eq28_2=mdays(data_50days[:,25:], 1)\n",
    "pp_eq28_50days=numpy.concatenate((pp_eq28_1, pp_eq28_2, pp_eq28_3, pp_eq28_4), axis=1) "
   ]
  },
  {
   "cell_type": "code",
   "execution_count": null,
   "metadata": {},
   "outputs": [],
   "source": [
    "def psXmedCTimCTri4(dcm, window=\"hann\"):\n",
    "    ps1=scipy.signal.csd(dcm[:,0],\n",
    "                        dcm[:,1],\n",
    "                        nperseg=128,\n",
    "                        detrend=None,\n",
    "                        window = window)\n",
    "    ps2=scipy.signal.csd(dcm[:,2],\n",
    "                        dcm[:,3],\n",
    "                        nperseg=128,\n",
    "                        detrend=None,\n",
    "                        window = window)  \n",
    "    CTim=numpy.mean(ps1[1], axis=0)\n",
    "    CTim2=numpy.mean(ps2[1], axis=0)\n",
    "    CTri=numpy.mean(CTim,\n",
    "                    axis=0)\n",
    "    CTri2=numpy.mean(CTim2,axis=0)\n",
    "    CTri=(CTri+CTri2)/2\n",
    "    return numpy.fft.fftshift(numpy.abs(CTri))/128"
   ]
  },
  {
   "cell_type": "code",
   "execution_count": null,
   "metadata": {},
   "outputs": [],
   "source": [
    "x1=psXmedCTimCTri(numpy.exp(1j*(pp_eq28_idr2[125:225,:,:,120:380])),\n",
    "                       window=\"hamming\")\n",
    "x2=psXmedCTimCTri4(numpy.exp(1j*(pp_eq28_50days[200:300,:,:,120:380])),\n",
    "                       window=\"hamming\")\n",
    "\n",
    "fig,ax=plt.subplots()\n",
    "xvar = numpy.arange(128)-64\n",
    "plt.semilogy(xvar,x1)\n",
    "plt.semilogy(xvar,x2)\n",
    "ax.set_xlabel(\"Delay ( %f ns)\" % (1e9/(100e6/1024) / 128,))\n",
    "ax.set_ylabel(\"$\\lambda$\")\n",
    "ax.set_title(\"XX, Low Range\")\n",
    "ax.set_ylim([10e-10,10e-1])\n",
    "ax.xaxis.set_ticks_position('bottom')\n",
    "ax.grid()"
   ]
  },
  {
   "cell_type": "code",
   "execution_count": null,
   "metadata": {},
   "outputs": [],
   "source": []
  }
 ],
 "metadata": {
  "kernelspec": {
   "display_name": "Python 2",
   "language": "python",
   "name": "python2"
  },
  "language_info": {
   "codemirror_mode": {
    "name": "ipython",
    "version": 2
   },
   "file_extension": ".py",
   "mimetype": "text/x-python",
   "name": "python",
   "nbconvert_exporter": "python",
   "pygments_lexer": "ipython2",
   "version": "2.7.15"
  }
 },
 "nbformat": 4,
 "nbformat_minor": 2
}
