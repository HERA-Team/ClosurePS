{
 "cells": [
  {
   "cell_type": "code",
   "execution_count": null,
   "metadata": {},
   "outputs": [],
   "source": [
    "import numpy\n",
    "\n",
    "large_field = numpy.load(\"/rds/project/bn204/rds-bn204-asterics/jck42/BiSpectrum/Binned_Data_LargeField/EQ14/XX/fornaxA.npz\")\n",
    "cl_lf = large_field['closures']"
   ]
  },
  {
   "cell_type": "code",
   "execution_count": null,
   "metadata": {},
   "outputs": [],
   "source": [
    "%load_ext cython"
   ]
  },
  {
   "cell_type": "code",
   "execution_count": null,
   "metadata": {},
   "outputs": [],
   "source": [
    "%run procps.py\n",
    "%run plotprelude.py"
   ]
  },
  {
   "cell_type": "code",
   "execution_count": null,
   "metadata": {},
   "outputs": [],
   "source": [
    "%%cython -a\n",
    "import numpy\n",
    "\n",
    "def cmedn_c(a, axis, n):\n",
    "    \"\"\"Circular MEDian N\n",
    "\n",
    "    Returns n values around the median computed along axis using\n",
    "    circular stats. NB values are not necessarily sorted in distance\n",
    "    from median (argpartition is used)\n",
    "    \"\"\"\n",
    "    p=a[numpy.newaxis, :]-a[:, numpy.newaxis]\n",
    "    p=(p+numpy.pi) % (2 * numpy.pi) - numpy.pi\n",
    "    p = numpy.abs(p).sum(1)\n",
    "    ii=numpy.argpartition(p, n+1, axis=axis)\n",
    "    return numpy.choose(ii[0:n], a)\n",
    "\n",
    "def mdays_c(dc, n):\n",
    "    \"\"\"Median across Days\n",
    "\n",
    "    Compute cmedn across the days axis. Needed because cmedn is N^2\n",
    "    memory scaling\n",
    "    \"\"\"\n",
    "    dnew=numpy.array([[cmedn_c(dc[i,:,j], axis=0, n=n) for j in range(dc.shape[2])] for i in range(dc.shape[0])])\n",
    "    # Rotate axes so days are in position 1 again\n",
    "    return numpy.moveaxis(dnew, 2, 1)"
   ]
  },
  {
   "cell_type": "code",
   "execution_count": null,
   "metadata": {},
   "outputs": [],
   "source": [
    "%%cython -a\n",
    "import numpy\n",
    "\n",
    "def triad_flagging(closures, threshold=100, reduc_threshold=1.0):\n",
    "        \"\"\"\n",
    "        Takes closures and runs a circular sigma clip across them. \n",
    "        If a particular triad is not behaving at a particular record/day\n",
    "        in > chan_threshold channels, then put a 1 in a flag array.\n",
    "\n",
    "        Inputs:\n",
    "\n",
    "        closures       [Numpy Array] Binned closures of shape \n",
    "                       [lst, day, trid, channel]\n",
    "        chan_threshold [Integer] Number of channels that a triad \n",
    "                       is off in before a flag gets set.\n",
    "        sigma          [Float] Sigma value  to exceed before a triad\n",
    "                       is considered errant.\n",
    "\n",
    "        Returns:\n",
    "\n",
    "        fl             [Numpy Array][Bool] Flag array.\n",
    "\n",
    "        \"\"\"\n",
    "        cls = closures.shape[:3]\n",
    "        fl = numpy.zeros(shape=cls)\n",
    "\n",
    "        for t in numpy.arange(closures.shape[0]):\n",
    "            for d in numpy.arange(closures.shape[1]):\n",
    "                for c in numpy.arange(closures.shape[3]):\n",
    "                    tr = closures[t,d,:,c]\n",
    "                    \n",
    "                    tr_x = numpy.cos(tr)\n",
    "                    tr_y = numpy.sin(tr)\n",
    "                    averaged_x = numpy.mean(tr_x)\n",
    "                    averaged_y = numpy.mean(tr_y)\n",
    "                    \n",
    "                    r = numpy.sqrt(numpy.square(averaged_x) + numpy.square(averaged_y))\n",
    "                    av_ang = numpy.arctan2(averaged_y,averaged_x)\n",
    "                    sigma = numpy.sqrt(-2 * numpy.log(r))\n",
    "\n",
    "                    for triad in numpy.arange(closures.shape[2]):\n",
    "                        if numpy.abs(closures[t,d,triad,c] - av_ang) > sigma*reduc_threshold:\n",
    "                            fl[t,d,triad] += 1\n",
    "        return fl\n",
    "    \n",
    "    \n",
    "\n",
    "def triad_flagging_ctest(closures, threshold=100, reduc_threshold=1.0):\n",
    "        \"\"\"\n",
    "        Takes closures and runs circular discordance C test across them. \n",
    "        If a particular triad is not behaving at a particular record/day\n",
    "        in > chan_threshold channels, then put a 1 in a flag array.\n",
    "\n",
    "        Inputs:\n",
    "\n",
    "        closures       [Numpy Array] Binned closures of shape \n",
    "                       [lst, day, trid, channel]\n",
    "        chan_threshold [Integer] Number of channels that a triad \n",
    "                       is off in before a flag gets set.\n",
    "        sigma          [Float] Sigma value  to exceed before a triad\n",
    "                       is considered errant.\n",
    "\n",
    "        Returns:\n",
    "\n",
    "        fl             [Numpy Array][Bool] Flag array.\n",
    "\n",
    "        \"\"\"\n",
    "        cls = closures.shape[:3]\n",
    "        fl = numpy.zeros(shape=cls)\n",
    "\n",
    "        for t in numpy.arange(closures.shape[0]):\n",
    "            for d in numpy.arange(closures.shape[1]):\n",
    "                for c in numpy.arange(closures.shape[3]):\n",
    "                    tr = numpy.ma.masked_array(closures[t,d,:,c])\n",
    "                    tr_x = numpy.cos(tr)\n",
    "                    tr_y = numpy.sin(tr)\n",
    "                    averaged_x = numpy.mean(tr_x)\n",
    "                    averaged_y = numpy.mean(tr_y)\n",
    "                    \n",
    "                    r = numpy.sqrt(numpy.square(averaged_x) + numpy.square(averaged_y))\n",
    "                    #av_ang = numpy.arctan2(averaged_y,averaged_x)\n",
    "                    #sigma = numpy.sqrt(-2 * numpy.log(r))\n",
    "\n",
    "                    for triad in numpy.arange(closures.shape[2]):\n",
    "                        tr[triad] = numpy.ma.masked\n",
    "                        trav_x = numpy.cos(tr)\n",
    "                        trav_y = numpy.sin(tr)\n",
    "                        mta_x = numpy.mean(trav_x)\n",
    "                        mta_y = numpy.mean(trav_y)\n",
    "                        rbar = numpy.sqrt(numpy.square(mta_x) + numpy.square(mta_y))\n",
    "#                        print(rbar.shape)\n",
    "#                        print(r.shape)\n",
    "#                        print(reduc_threshold)\n",
    "                        if (r - rbar)/r > reduc_threshold:\n",
    "                            fl[t,d,triad] += 1\n",
    "                        \n",
    "                        tr[triad] = closures[t,d,triad,c]\n",
    "                        \n",
    "                        \n",
    "                        \n",
    "        return fl\n"
   ]
  },
  {
   "cell_type": "code",
   "execution_count": null,
   "metadata": {},
   "outputs": [],
   "source": [
    "#Medians for Equilateral 14m trids\n",
    "pp_lf_1=mdays_c(cl_lf[:,0:22], 1)\n",
    "pp_lf_2=mdays_c(cl_lf[:,22:], 1)\n",
    "\n",
    "pp_gc=numpy.concatenate((pp_lf_1, pp_lf_2), axis=1)"
   ]
  },
  {
   "cell_type": "code",
   "execution_count": null,
   "metadata": {},
   "outputs": [],
   "source": [
    "print(pp_gc.shape)"
   ]
  },
  {
   "cell_type": "code",
   "execution_count": null,
   "metadata": {},
   "outputs": [],
   "source": [
    "import matplotlib.pyplot as plt\n",
    "xvar = numpy.arange(260)\n",
    "\n",
    "plt.plot(xvar,pp_gc[89,0,33,120:380])\n",
    "plt.ylim(-numpy.pi,numpy.pi)"
   ]
  },
  {
   "cell_type": "code",
   "execution_count": null,
   "metadata": {},
   "outputs": [],
   "source": [
    "sigclipt = triad_flagging(pp_gc[30:130,0:1,:,120:380],reduc_threshold=3.0)"
   ]
  },
  {
   "cell_type": "code",
   "execution_count": null,
   "metadata": {},
   "outputs": [],
   "source": [
    "sigclip = triad_flagging_ctest(pp_gc[30:130,0:1,:,120:380],reduc_threshold=0.2)"
   ]
  },
  {
   "cell_type": "code",
   "execution_count": null,
   "metadata": {},
   "outputs": [],
   "source": [
    "sigst = numpy.sum(sigclipt,axis=1)\n",
    "sigst = numpy.sum(sigclipt, axis=0)\n",
    "\n",
    "sigs = numpy.sum(sigclip,axis=1)\n",
    "sigs = numpy.sum(sigs,axis=0)"
   ]
  },
  {
   "cell_type": "code",
   "execution_count": null,
   "metadata": {},
   "outputs": [],
   "source": [
    "print(sigs)\n",
    "print(sigst)\n",
    "print(numpy.argwhere(sigst>=2000))"
   ]
  },
  {
   "cell_type": "code",
   "execution_count": null,
   "metadata": {},
   "outputs": [],
   "source": [
    "triads=large_field['triads']\n"
   ]
  },
  {
   "cell_type": "code",
   "execution_count": null,
   "metadata": {},
   "outputs": [],
   "source": [
    "print(triads[13])\n",
    "print(triads[15])\n",
    "print(triads[33])\n"
   ]
  },
  {
   "cell_type": "code",
   "execution_count": null,
   "metadata": {},
   "outputs": [],
   "source": []
  }
 ],
 "metadata": {
  "kernelspec": {
   "display_name": "Python 2",
   "language": "python",
   "name": "python2"
  }
 },
 "nbformat": 4,
 "nbformat_minor": 2
}
