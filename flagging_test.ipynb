{
 "cells": [
  {
   "cell_type": "code",
   "execution_count": null,
   "metadata": {},
   "outputs": [],
   "source": [
    "import numpy\n",
    "\n",
    "large_field = numpy.load(\"/rds/project/bn204/rds-bn204-asterics/jck42/BiSpectrum/Binned_Data_LargeField/EQ14/XX/fornaxA.npz\")\n",
    "cl_lf = large_field['closures']"
   ]
  },
  {
   "cell_type": "code",
   "execution_count": null,
   "metadata": {},
   "outputs": [],
   "source": [
    "%load_ext cython"
   ]
  },
  {
   "cell_type": "code",
   "execution_count": null,
   "metadata": {},
   "outputs": [],
   "source": [
    "%run procps.py\n",
    "%run plotprelude.py"
   ]
  },
  {
   "cell_type": "code",
   "execution_count": null,
   "metadata": {},
   "outputs": [],
   "source": [
    "%%cython -a\n",
    "import numpy\n",
    "\n",
    "def cmedn_c(a, axis, n):\n",
    "    \"\"\"Circular MEDian N\n",
    "\n",
    "    Returns n values around the median computed along axis using\n",
    "    circular stats. NB values are not necessarily sorted in distance\n",
    "    from median (argpartition is used)\n",
    "    \"\"\"\n",
    "    p=a[numpy.newaxis, :]-a[:, numpy.newaxis]\n",
    "    p=(p+numpy.pi) % (2 * numpy.pi) - numpy.pi\n",
    "    p = numpy.abs(p).sum(1)\n",
    "    ii=numpy.argpartition(p, n+1, axis=axis)\n",
    "    return numpy.choose(ii[0:n], a)\n",
    "\n",
    "def mdays_c(dc, n):\n",
    "    \"\"\"Median across Days\n",
    "\n",
    "    Compute cmedn across the days axis. Needed because cmedn is N^2\n",
    "    memory scaling\n",
    "    \"\"\"\n",
    "    dnew=numpy.array([[cmedn_c(dc[i,:,j], axis=0, n=n) for j in range(dc.shape[2])] for i in range(dc.shape[0])])\n",
    "    # Rotate axes so days are in position 1 again\n",
    "    return numpy.moveaxis(dnew, 2, 1)"
   ]
  },
  {
   "cell_type": "code",
   "execution_count": null,
   "metadata": {},
   "outputs": [],
   "source": [
    "%%cython -a\n",
    "import numpy\n",
    "\n",
    "def triad_flagging(closures, threshold=100, reduc_threshold=1.0):\n",
    "        \"\"\"\n",
    "        Takes closures and runs a circular sigma clip across them. \n",
    "        If a particular triad is not behaving at a particular record/day\n",
    "        in > chan_threshold channels, then put a 1 in a flag array.\n",
    "\n",
    "        Inputs:\n",
    "\n",
    "        closures       [Numpy Array] Binned closures of shape \n",
    "                       [lst, day, trid, channel]\n",
    "        chan_threshold [Integer] Number of channels that a triad \n",
    "                       is off in before a flag gets set.\n",
    "        sigma          [Float] Sigma value  to exceed before a triad\n",
    "                       is considered errant.\n",
    "\n",
    "        Returns:\n",
    "\n",
    "        fl             [Numpy Array][Bool] Flag array.\n",
    "\n",
    "        \"\"\"\n",
    "        cls = closures.shape[:3]\n",
    "        fl = numpy.zeros(shape=cls)\n",
    "\n",
    "        for t in numpy.arange(closures.shape[0]):\n",
    "            for d in numpy.arange(closures.shape[1]):\n",
    "                for c in numpy.arange(closures.shape[3]):\n",
    "                    tr = closures[t,d,:,c]\n",
    "                    \n",
    "                    tr_x = numpy.cos(tr)\n",
    "                    tr_y = numpy.sin(tr)\n",
    "                    averaged_x = numpy.mean(tr_x)\n",
    "                    averaged_y = numpy.mean(tr_y)\n",
    "                    \n",
    "                    r = numpy.sqrt(numpy.square(averaged_x) + numpy.square(averaged_y))\n",
    "                    av_ang = numpy.arctan2(averaged_y,averaged_x)\n",
    "                    sigma = numpy.sqrt(-2 * numpy.log(r))\n",
    "\n",
    "                    for triad in numpy.arange(closures.shape[2]):\n",
    "                        if numpy.abs(closures[t,d,triad,c] - av_ang) > sigma*reduc_threshold:\n",
    "                            fl[t,d,triad] += 1\n",
    "        return fl\n",
    "    \n",
    "    \n",
    "\n",
    "def triad_flagging_ctest(closures, threshold=100, reduc_threshold=1.0):\n",
    "        \"\"\"\n",
    "        Takes closures and runs circular discordance C test across them. \n",
    "        If a particular triad is not behaving at a particular record/day\n",
    "        in > chan_threshold channels, then put a 1 in a flag array.\n",
    "\n",
    "        Inputs:\n",
    "\n",
    "        closures       [Numpy Array] Binned closures of shape \n",
    "                       [lst, day, trid, channel]\n",
    "        chan_threshold [Integer] Number of channels that a triad \n",
    "                       is off in before a flag gets set.\n",
    "        sigma          [Float] Sigma value  to exceed before a triad\n",
    "                       is considered errant.\n",
    "\n",
    "        Returns:\n",
    "\n",
    "        fl             [Numpy Array][Bool] Flag array.\n",
    "\n",
    "        \"\"\"\n",
    "        cls = closures.shape[:3]\n",
    "        fl = numpy.zeros(shape=cls)\n",
    "\n",
    "        for t in numpy.arange(closures.shape[0]):\n",
    "            for d in numpy.arange(closures.shape[1]):\n",
    "                for c in numpy.arange(closures.shape[3]):\n",
    "                    tr = numpy.ma.masked_array(closures[t,d,:,c])\n",
    "                    tr_x = numpy.cos(tr)\n",
    "                    tr_y = numpy.sin(tr)\n",
    "                    averaged_x = numpy.mean(tr_x)\n",
    "                    averaged_y = numpy.mean(tr_y)\n",
    "                    \n",
    "                    r = numpy.sqrt(numpy.square(averaged_x) + numpy.square(averaged_y))\n",
    "                    #av_ang = numpy.arctan2(averaged_y,averaged_x)\n",
    "                    #sigma = numpy.sqrt(-2 * numpy.log(r))\n",
    "\n",
    "                    for triad in numpy.arange(closures.shape[2]):\n",
    "                        tr[triad] = numpy.ma.masked\n",
    "                        trav_x = numpy.cos(tr)\n",
    "                        trav_y = numpy.sin(tr)\n",
    "                        mta_x = numpy.mean(trav_x)\n",
    "                        mta_y = numpy.mean(trav_y)\n",
    "                        rbar = numpy.sqrt(numpy.square(mta_x) + numpy.square(mta_y))\n",
    "#                        print(rbar.shape)\n",
    "#                        print(r.shape)\n",
    "#                        print(reduc_threshold)\n",
    "                        if (r - rbar)/r > reduc_threshold:\n",
    "                            fl[t,d,triad] += 1\n",
    "                        \n",
    "                        tr[triad] = closures[t,d,triad,c]\n",
    "                        \n",
    "                        \n",
    "                        \n",
    "        return fl\n"
   ]
  },
  {
   "cell_type": "code",
   "execution_count": null,
   "metadata": {},
   "outputs": [],
   "source": [
    "#Medians for Equilateral 14m trids\n",
    "pp_lf_1=mdays_c(cl_lf[:,0:22], 1)\n",
    "pp_lf_2=mdays_c(cl_lf[:,22:], 1)\n",
    "\n",
    "pp_gc=numpy.concatenate((pp_lf_1, pp_lf_2), axis=1)"
   ]
  },
  {
   "cell_type": "code",
   "execution_count": null,
   "metadata": {},
   "outputs": [],
   "source": [
    "print(pp_gc.shape)"
   ]
  },
  {
   "cell_type": "code",
   "execution_count": null,
   "metadata": {},
   "outputs": [],
   "source": [
    "import matplotlib.pyplot as plt\n",
    "xvar = numpy.arange(260)\n",
    "\n",
    "plt.plot(xvar,pp_gc[150,0,33,120:380])\n",
    "plt.ylim(-numpy.pi,numpy.pi)"
   ]
  },
  {
   "cell_type": "code",
   "execution_count": null,
   "metadata": {},
   "outputs": [],
   "source": [
    "sigclipt = triad_flagging(pp_gc[160:440,0:1,:,120:380],reduc_threshold=3.0)"
   ]
  },
  {
   "cell_type": "code",
   "execution_count": null,
   "metadata": {},
   "outputs": [],
   "source": [
    "sigst = numpy.sum(sigclipt,axis=1)\n",
    "sigst = numpy.sum(sigclipt, axis=0)"
   ]
  },
  {
   "cell_type": "code",
   "execution_count": null,
   "metadata": {},
   "outputs": [],
   "source": [
    "print(sigst)\n",
    "bad_triads = numpy.argwhere(sigst>=200)[:,1]\n",
    "print(bad_triads)"
   ]
  },
  {
   "cell_type": "code",
   "execution_count": null,
   "metadata": {},
   "outputs": [],
   "source": [
    "triads=large_field['triads']\n"
   ]
  },
  {
   "cell_type": "code",
   "execution_count": null,
   "metadata": {},
   "outputs": [],
   "source": [
    "for triad in bad_triads:\n",
    "    print triads[triad]\n",
    "    \n",
    "print(triads[23])"
   ]
  },
  {
   "cell_type": "markdown",
   "metadata": {},
   "source": [
    "Try masking off the offending triads..."
   ]
  },
  {
   "cell_type": "code",
   "execution_count": null,
   "metadata": {},
   "outputs": [],
   "source": [
    "pp_gc_m = numpy.delete(pp_gc,bad_triads,axis=2)\n",
    "pp_gc_m_tr = numpy.delete(triads,bad_triads,axis=0)\n",
    "#for triad in bad_triads:\n",
    "#    pp_gc_m[:,:,triad,:] = numpy.ma.masked"
   ]
  },
  {
   "cell_type": "code",
   "execution_count": null,
   "metadata": {},
   "outputs": [],
   "source": [
    "print(pp_gc_m[150:250,:,:,120:380].shape)\n",
    "print(pp_gc_m_tr.shape)"
   ]
  },
  {
   "cell_type": "code",
   "execution_count": null,
   "metadata": {},
   "outputs": [],
   "source": [
    "def psXmedCTimCTri_masked(dcm, window=\"hann\"):\n",
    "    ps=scipy.signal.csd(dcm[:,0],\n",
    "                        dcm[:,1],\n",
    "                        nperseg=128,\n",
    "                        detrend=None,\n",
    "                           window = window)  \n",
    "    CTim=numpy.ma.mean(ps[1], axis=0)\n",
    "    CTri=numpy.ma.mean(CTim,\n",
    "                    axis=0)\n",
    "    return numpy.fft.fftshift(numpy.abs(CTri))/128"
   ]
  },
  {
   "cell_type": "code",
   "execution_count": null,
   "metadata": {},
   "outputs": [],
   "source": [
    "x1=psXmedCTimCTri(numpy.exp(1j*(pp_gc[160:440,:,:,120:380])),\n",
    "                       window=\"hann\")\n",
    "\n",
    "x2=psXmedCTimCTri(numpy.exp(1j*(pp_gc_m[160:440,:,:,120:380])),\n",
    "                       window=\"hann\")\n",
    "\n",
    "fig,ax=plt.subplots()\n",
    "xvar = numpy.arange(128)-64\n",
    "plt.semilogy(xvar,x1)\n",
    "plt.semilogy(xvar,x2)\n",
    "ax.set_xlabel(\"Delay ( %f ns)\" % (1e9/(100e6/1024) / 128,))\n",
    "ax.set_ylabel(\"$\\lambda$\")\n",
    "ax.set_title(\"XX, Low Range\")\n",
    "ax.set_ylim([10e-11,10e-1])\n",
    "ax.xaxis.set_ticks_position('bottom')\n",
    "ax.grid()\n",
    "\n",
    "plt.savefig(\"sigma_clipping.pdf\")"
   ]
  },
  {
   "cell_type": "code",
   "execution_count": null,
   "metadata": {},
   "outputs": [],
   "source": [
    "print(pp_gc[175,:,23:24,150])\n",
    "print(pp_gc_m[175,:,:,150])"
   ]
  },
  {
   "cell_type": "markdown",
   "metadata": {},
   "source": [
    "# Lets look at the delay spectra for every 10 second block of records across whole field.\n",
    "\n"
   ]
  },
  {
   "cell_type": "code",
   "execution_count": null,
   "metadata": {},
   "outputs": [],
   "source": [
    "total_records=pp_gc.shape[0]\n",
    "\n",
    "bp = 0\n",
    "for i in numpy.arange(10,total_records,10):\n",
    "    ds = psXmedCTimCTri(numpy.exp(1j*(pp_gc[bp:i,:,:,120:380])),\n",
    "                       window=\"hann\")\n",
    "    fig,ax=plt.subplots()\n",
    "    xvar = numpy.arange(128)-64\n",
    "    plt.semilogy(xvar,ds)\n",
    "    ax.set_xlabel(\"Delay ( %f ns)\" % (1e9/(100e6/1024) / 128,))\n",
    "    ax.set_ylabel(\"$\\lambda$\")\n",
    "    ax.set_title(\"XX, Low Range: records %d - %d\"%(bp, i))\n",
    "    ax.set_ylim([10e-11,10e-1])\n",
    "    ax.xaxis.set_ticks_position('bottom')\n",
    "    ax.grid()\n",
    "    bp = i"
   ]
  },
  {
   "cell_type": "code",
   "execution_count": null,
   "metadata": {},
   "outputs": [],
   "source": [
    "bigfield = numpy.load(\"/rds/project/bn204/rds-bn204-asterics/jck42/BiSpectrum/Binned_Data_LargeField/EQ14/XX/lst_0230_1000.npz\")\n",
    "cl_big = bigfield['closures']"
   ]
  },
  {
   "cell_type": "code",
   "execution_count": null,
   "metadata": {},
   "outputs": [],
   "source": [
    "#Medians for Equilateral 14m trids\n",
    "pp_big_1=mdays_c(cl_big[:,0:22], 1)\n",
    "pp_big_2=mdays_c(cl_big[:,22:], 1)\n",
    "\n",
    "pp_big=numpy.concatenate((pp_big_1, pp_big_2), axis=1)"
   ]
  },
  {
   "cell_type": "code",
   "execution_count": null,
   "metadata": {},
   "outputs": [],
   "source": [
    "total_records=pp_big.shape[0]\n",
    "\n",
    "bp = 0\n",
    "for i in numpy.arange(10,total_records,10):\n",
    "    ds = psXmedCTimCTri(numpy.exp(1j*(pp_big[bp:i,:,:,120:380])),\n",
    "                       window=\"hann\")\n",
    "    fig,ax=plt.subplots()\n",
    "    xvar = numpy.arange(128)-64\n",
    "    plt.semilogy(xvar,ds)\n",
    "    ax.set_xlabel(\"Delay ( %f ns)\" % (1e9/(100e6/1024) / 128,))\n",
    "    ax.set_ylabel(\"$\\lambda$\")\n",
    "    ax.set_title(\"XX, Low Range: records %d - %d\"%(bp, i))\n",
    "    ax.set_ylim([10e-11,10e-1])\n",
    "    ax.xaxis.set_ticks_position('bottom')\n",
    "    ax.grid()\n",
    "    bp = i"
   ]
  },
  {
   "cell_type": "code",
   "execution_count": null,
   "metadata": {},
   "outputs": [],
   "source": [
    "x1=psXmedCTimCTri(numpy.exp(1j*(pp_big[180:410,:,:,120:380])),\n",
    "                       window=\"hann\")\n",
    "\n",
    "x2=psXmedCTimCTri(numpy.exp(1j*(pp_big[160:440,:,:,120:380])),\n",
    "                       window=\"hann\")\n",
    "\n",
    "fig,ax=plt.subplots()\n",
    "xvar = numpy.arange(128)-64\n",
    "plt.semilogy(xvar,x1)\n",
    "plt.semilogy(xvar,x2)\n",
    "ax.set_xlabel(\"Delay ( %f ns)\" % (1e9/(100e6/1024) / 128,))\n",
    "ax.set_ylabel(\"$\\lambda$\")\n",
    "ax.set_title(\"XX, Low Range\")\n",
    "ax.set_ylim([10e-11,10e-1])\n",
    "ax.xaxis.set_ticks_position('bottom')\n",
    "ax.grid()"
   ]
  },
  {
   "cell_type": "code",
   "execution_count": null,
   "metadata": {},
   "outputs": [],
   "source": []
  }
 ],
 "metadata": {
  "kernelspec": {
   "display_name": "Python 2",
   "language": "python",
   "name": "python2"
  },
  "language_info": {
   "codemirror_mode": {
    "name": "ipython",
    "version": 2
   },
   "file_extension": ".py",
   "mimetype": "text/x-python",
   "name": "python",
   "nbconvert_exporter": "python",
   "pygments_lexer": "ipython2",
   "version": "2.7.15"
  }
 },
 "nbformat": 4,
 "nbformat_minor": 2
}
