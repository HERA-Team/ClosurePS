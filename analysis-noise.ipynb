{
 "cells": [
  {
   "cell_type": "code",
   "execution_count": null,
   "metadata": {},
   "outputs": [],
   "source": [
    "import numpy\n",
    "from matplotlib import pylab\n",
    "import matplotlib.pyplot as plt\n",
    "fin_eq14=numpy.load(\"/rds/project/bn204/rds-bn204-asterics/jck42/BiSpectrum/Binned_Data_IDR2/EQ14/XX/output_bin.npz\")\n",
    "fin_eq28=numpy.load(\"/rds/project/bn204/rds-bn204-asterics/jck42/BiSpectrum/Binned_Data_IDR2/EQ28/XX/output_bin.npz\")\n",
    "fin_linew=numpy.load(\"/rds/project/bn204/rds-bn204-asterics/jck42/BiSpectrum/Binned_Data_IDR2/LinEW/XX/output_bin.npz\")\n",
    "fin_linp30=numpy.load(\"/rds/project/bn204/rds-bn204-asterics/jck42/BiSpectrum/Binned_Data_IDR2/Linp30/XX/output_bin.npz\")\n",
    "fin_linm30=numpy.load(\"/rds/project/bn204/rds-bn204-asterics/jck42/BiSpectrum/Binned_Data_IDR2/Linm30/XX/output_bin.npz\")\n",
    "dd_eq14 = fin_eq14['closures']\n",
    "dd_eq28 = fin_eq28['closures']\n",
    "dd_linew = fin_linew['closures']\n",
    "dd_linp30 = fin_linp30['closures']\n",
    "dd_linm30 = fin_linm30['closures']"
   ]
  },
  {
   "cell_type": "code",
   "execution_count": null,
   "metadata": {},
   "outputs": [],
   "source": [
    "%run procps.py\n",
    "%run plotprelude.py"
   ]
  },
  {
   "cell_type": "code",
   "execution_count": null,
   "metadata": {},
   "outputs": [],
   "source": [
    "#Medians for Equilateral 14m triads\n",
    "pp_eq14_1=mdays(dd_eq14[:,0:8], 1)\n",
    "pp_eq14_2=mdays(dd_eq14[:,8:], 1)\n",
    "pp_eq14=numpy.concatenate((pp_eq14_1, pp_eq14_2), axis=1)       \n",
    "\n",
    "#Medians for ever other Equilateral 28m triads\n",
    "pp_eq28_1=mdays(dd_eq28[:,0:8], 1)\n",
    "pp_eq28_2=mdays(dd_eq28[:,8:], 1)\n",
    "pp_eq28=numpy.concatenate((pp_eq28_1, pp_eq28_2), axis=1)  \n",
    "\n",
    "#Medians for every other Linear East-West Triads\n",
    "pp_linew_1=mdays(dd_linew[:,0:8], 1)\n",
    "pp_linew_2=mdays(dd_linew[:,8:], 1)\n",
    "pp_linew=numpy.concatenate((pp_linew_1, pp_linew_2), axis=1)\n",
    "\n",
    "#Medians for every other Linear 30 degree Triads\n",
    "pp_linp30_1=mdays(dd_linp30[:,0:8], 1)\n",
    "pp_linp30_2=mdays(dd_linp30[:,8:], 1)\n",
    "pp_linp30=numpy.concatenate((pp_linp30_1, pp_linp30_2), axis=1)\n",
    "\n",
    "#Medians for every other Linear 180-30 degree Triads\n",
    "pp_linm30_1=mdays(dd_linm30[:,0:8], 1)\n",
    "pp_linm30_2=mdays(dd_linm30[:,8:], 1)\n",
    "pp_linm30=numpy.concatenate((pp_linm30_1, pp_linm30_2), axis=1)"
   ]
  }
 ],
 "metadata": {
  "kernelspec": {
   "display_name": "Python 2",
   "language": "python",
   "name": "python2"
  },
  "language_info": {
   "codemirror_mode": {
    "name": "ipython",
    "version": 2
   },
   "file_extension": ".py",
   "mimetype": "text/x-python",
   "name": "python",
   "nbconvert_exporter": "python",
   "pygments_lexer": "ipython2",
   "version": "2.7.15"
  }
 },
 "nbformat": 4,
 "nbformat_minor": 2
}
