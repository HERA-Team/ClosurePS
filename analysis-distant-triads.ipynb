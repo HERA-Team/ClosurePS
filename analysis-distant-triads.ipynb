{
 "cells": [
  {
   "cell_type": "code",
   "execution_count": null,
   "metadata": {},
   "outputs": [],
   "source": [
    "import numpy, os\n",
    "import scipy\n",
    "import matplotlib.pyplot as plt\n",
    "\n",
    "# We create a cube looking at the distance between closures\n",
    "# between each triad, at each time, across some channel range.\n",
    "def calculate_pse_cube(closures):\n",
    "    cl = numpy.exp(1j * closures)\n",
    "    pse_vals = numpy.zeros(shape=(closures.shape[0],closures.shape[1],closures.shape[2]))\n",
    "    for t in range(closures.shape[0]):\n",
    "        for i in range(closures.shape[-1])\n",
    "            for j in range(closures.shape[-1]):\n",
    "                pse_vals[t,i,j] = numpy.sum(numpy.sqrt(numpy.square(closures[t,i,:].real-closures[t,j,:].real) +\n",
    "                                                      numpy.square(closures[t,i,:].imag - closures[t,j,:].imag)))/closures.shape[2]\n",
    "                \n",
    "\n",
    "def calculate_distance_cube(triad_centers, lookup_table):\n",
    "    \n",
    "    \n",
    "\n",
    "            \n",
    "        \n",
    "    \n",
    "    "
   ]
  }
 ],
 "metadata": {
  "kernelspec": {
   "display_name": "Python 2",
   "language": "python",
   "name": "python2"
  },
  "language_info": {
   "codemirror_mode": {
    "name": "ipython",
    "version": 2
   },
   "file_extension": ".py",
   "mimetype": "text/x-python",
   "name": "python",
   "nbconvert_exporter": "python",
   "pygments_lexer": "ipython2",
   "version": "2.7.15"
  }
 },
 "nbformat": 4,
 "nbformat_minor": 2
}
