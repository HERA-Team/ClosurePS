{
 "cells": [
  {
   "cell_type": "code",
   "execution_count": null,
   "metadata": {},
   "outputs": [],
   "source": [
    "import numpy\n",
    "fin=numpy.load(\"/bigfast/temp1/hera2/jck/EQ14binnedXX.npz\")"
   ]
  },
  {
   "cell_type": "code",
   "execution_count": null,
   "metadata": {},
   "outputs": [],
   "source": [
    "%matplotlib notebook\n",
    "from matplotlib import pylab\n",
    "pylab.matshow(fin[\"closures\"][:,0,0])"
   ]
  },
  {
   "cell_type": "code",
   "execution_count": null,
   "metadata": {},
   "outputs": [],
   "source": [
    "%run procps.py\n",
    "%run plotprelude.py"
   ]
  },
  {
   "cell_type": "code",
   "execution_count": null,
   "metadata": {},
   "outputs": [],
   "source": [
    "# Calculate the two median-most values\n",
    "pp2=mdays( fin[\"closures\"] ,2)\n",
    "pp2.shape"
   ]
  },
  {
   "cell_type": "code",
   "execution_count": null,
   "metadata": {},
   "outputs": [],
   "source": [
    "x1=psXmedCTimCTriR(numpy.exp(1j*(pp2[150:350,:,:,120:380])))\n",
    "pp_ps(x1)\n",
    "# Example of what happens if channel is set to zero\n",
    "p3=pp2.copy()\n",
    "p3[:,:, :, 199] =0\n",
    "x1=psXmedCTimCTriR(numpy.exp(1j*(p3[350:550,:,:,120:380])))\n",
    "pp_ps(x1)"
   ]
  },
  {
   "cell_type": "code",
   "execution_count": null,
   "metadata": {},
   "outputs": [],
   "source": []
  }
 ],
 "metadata": {
  "kernelspec": {
   "display_name": "ClosurePS",
   "language": "python",
   "name": "closureps"
  },
  "language_info": {
   "codemirror_mode": {
    "name": "ipython",
    "version": 3
   },
   "file_extension": ".py",
   "mimetype": "text/x-python",
   "name": "python",
   "nbconvert_exporter": "python",
   "pygments_lexer": "ipython3",
   "version": "3.6.6"
  }
 },
 "nbformat": 4,
 "nbformat_minor": 2
}
