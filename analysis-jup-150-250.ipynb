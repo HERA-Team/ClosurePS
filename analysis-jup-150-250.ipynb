{
 "cells": [
  {
   "cell_type": "code",
   "execution_count": 1,
   "metadata": {
    "autoscroll": false,
    "ein.hycell": false,
    "ein.tags": "worksheet-0",
    "slideshow": {
     "slide_type": "-"
    }
   },
   "outputs": [],
   "source": [
    "import numpy\n",
    "from matplotlib import pylab\n",
    "fin_eq14=numpy.load(\"/rds/project/bn204/rds-bn204-asterics/jck42/BiSpectrum/Binned_Data_IDR2/EQ14/XX/output_bin.npz\")\n",
    "fin_eq28=numpy.load(\"/rds/project/bn204/rds-bn204-asterics/jck42/BiSpectrum/Binned_Data_IDR2/EQ28/XX/output_bin.npz\")\n",
    "fin_linew=numpy.load(\"/rds/project/bn204/rds-bn204-asterics/jck42/BiSpectrum/Binned_Data_IDR2/LinEW/XX/output_bin.npz\")\n",
    "fin_linp30=numpy.load(\"/rds/project/bn204/rds-bn204-asterics/jck42/BiSpectrum/Binned_Data_IDR2/Linp30/XX/output_bin.npz\")\n",
    "fin_linm30=numpy.load(\"/rds/project/bn204/rds-bn204-asterics/jck42/BiSpectrum/Binned_Data_IDR2/Linm30/XX/output_bin.npz\")\n",
    "dd_eq14 = fin_eq14['closures']\n",
    "dd_eq28 = fin_eq28['closures']\n",
    "dd_linew = fin_linew['closures']\n",
    "dd_linp30 = fin_linp30['closures']\n",
    "dd_linm30 = fin_linm30['closures']"
   ]
  },
  {
   "cell_type": "code",
   "execution_count": 7,
   "metadata": {
    "autoscroll": false,
    "ein.hycell": false,
    "ein.tags": "worksheet-0",
    "slideshow": {
     "slide_type": "-"
    }
   },
   "outputs": [],
   "source": [
    "%run procps.py\n",
    "%run plotprelude.py"
   ]
  },
  {
   "cell_type": "code",
   "execution_count": 8,
   "metadata": {
    "autoscroll": false,
    "ein.hycell": false,
    "ein.tags": "worksheet-0",
    "slideshow": {
     "slide_type": "-"
    }
   },
   "outputs": [
    {
     "ename": "NameError",
     "evalue": "name 'dd_eq14' is not defined",
     "output_type": "error",
     "traceback": [
      "\u001b[0;31m---------------------------------------------------------------------------\u001b[0m",
      "\u001b[0;31mNameError\u001b[0m                                 Traceback (most recent call last)",
      "\u001b[0;32m<ipython-input-8-ac2926f4769f>\u001b[0m in \u001b[0;36m<module>\u001b[0;34m()\u001b[0m\n\u001b[1;32m      1\u001b[0m \u001b[0;31m#Medians for Equilateral 14m triads\u001b[0m\u001b[0;34m\u001b[0m\u001b[0;34m\u001b[0m\u001b[0m\n\u001b[0;32m----> 2\u001b[0;31m \u001b[0mpp_eq14_1\u001b[0m\u001b[0;34m=\u001b[0m\u001b[0mmdays\u001b[0m\u001b[0;34m(\u001b[0m\u001b[0mdd_eq14\u001b[0m\u001b[0;34m[\u001b[0m\u001b[0;34m:\u001b[0m\u001b[0;34m,\u001b[0m\u001b[0;36m0\u001b[0m\u001b[0;34m:\u001b[0m\u001b[0;36m8\u001b[0m\u001b[0;34m]\u001b[0m\u001b[0;34m,\u001b[0m \u001b[0;36m1\u001b[0m\u001b[0;34m)\u001b[0m\u001b[0;34m\u001b[0m\u001b[0m\n\u001b[0m\u001b[1;32m      3\u001b[0m \u001b[0mpp_eq14_2\u001b[0m\u001b[0;34m=\u001b[0m\u001b[0mmdays\u001b[0m\u001b[0;34m(\u001b[0m\u001b[0mdd_eq14\u001b[0m\u001b[0;34m[\u001b[0m\u001b[0;34m:\u001b[0m\u001b[0;34m,\u001b[0m\u001b[0;36m8\u001b[0m\u001b[0;34m:\u001b[0m\u001b[0;34m]\u001b[0m\u001b[0;34m,\u001b[0m \u001b[0;36m1\u001b[0m\u001b[0;34m)\u001b[0m\u001b[0;34m\u001b[0m\u001b[0m\n\u001b[1;32m      4\u001b[0m \u001b[0mpp_eq14\u001b[0m\u001b[0;34m=\u001b[0m\u001b[0mnumpy\u001b[0m\u001b[0;34m.\u001b[0m\u001b[0mconcatenate\u001b[0m\u001b[0;34m(\u001b[0m\u001b[0;34m(\u001b[0m\u001b[0mpp_eq14_1\u001b[0m\u001b[0;34m,\u001b[0m \u001b[0mpp_eq14_2\u001b[0m\u001b[0;34m)\u001b[0m\u001b[0;34m,\u001b[0m \u001b[0maxis\u001b[0m\u001b[0;34m=\u001b[0m\u001b[0;36m1\u001b[0m\u001b[0;34m)\u001b[0m\u001b[0;34m\u001b[0m\u001b[0m\n\u001b[1;32m      5\u001b[0m \u001b[0;34m\u001b[0m\u001b[0m\n",
      "\u001b[0;31mNameError\u001b[0m: name 'dd_eq14' is not defined"
     ]
    }
   ],
   "source": [
    "#Medians for Equilateral 14m triads\n",
    "pp_eq14_1=mdays(dd_eq14[:,0:8], 1)\n",
    "pp_eq14_2=mdays(dd_eq14[:,8:], 1)\n",
    "pp_eq14=numpy.concatenate((pp_eq14_1, pp_eq14_2), axis=1)       \n",
    "\n",
    "#Medians for ever other Equilateral 28m triads\n",
    "pp_eq28_1=mdays(dd_eq28[:,0:8], 1)\n",
    "pp_eq28_2=mdays(dd_eq28[:,8:], 1)\n",
    "pp_eq28=numpy.concatenate((pp_eq28_1, pp_eq28_2), axis=1)  \n",
    "\n",
    "#Medians for every other Linear East-West Triads\n",
    "pp_linew_1=mdays(dd_linew[:,0:8], 1)\n",
    "pp_linew_2=mdays(dd_linew[:,8:], 1)\n",
    "pp_linew=numpy.concatenate((pp_linew_1, pp_linew_2), axis=1)\n",
    "\n",
    "#Medians for every other Linear 30 degree Triads\n",
    "pp_linp30_1=mdays(dd_linp30[:,0:8], 1)\n",
    "pp_linp30_2=mdays(dd_linp30[:,8:], 1)\n",
    "pp_linp30=numpy.concatenate((pp_linp30_1, pp_linp30_2), axis=1)\n",
    "\n",
    "#Medians for every other Linear 180-30 degree Triads\n",
    "pp_linm30_1=mdays(dd_linm30[:,0:8], 1)\n",
    "pp_linm30_2=mdays(dd_linm30[:,8:], 1)\n",
    "pp_linm30=numpy.concatenate((pp_linm30_1, pp_linm30_2), axis=1)"
   ]
  },
  {
   "cell_type": "markdown",
   "metadata": {
    "ein.tags": "worksheet-0",
    "slideshow": {
     "slide_type": "-"
    }
   },
   "source": [
    "# XX Polarisations"
   ]
  },
  {
   "cell_type": "code",
   "execution_count": null,
   "metadata": {
    "autoscroll": false,
    "ein.hycell": false,
    "ein.tags": "worksheet-0",
    "scrolled": false,
    "slideshow": {
     "slide_type": "-"
    }
   },
   "outputs": [],
   "source": [
    "# High Channel Range\n",
    "x1=psXmedCTimCTri(numpy.exp(1j*(pp_eq14[150:250,:,:,515:775])),\n",
    "                       window=\"hamming\")\n",
    "pp_ps(x1,title=\"EQ14, XX, Times 150:250, Chans 515:775\")\n",
    "x1=psXmedCTimCTri(numpy.exp(1j*(pp_eq28[150:250,:,:,515:775])),\n",
    "                       window=\"hamming\")\n",
    "pp_ps(x1,title=\"EQ28, XX, Times 150:250, Chans 515:775\")\n",
    "x1=psXmedCTimCTri(numpy.exp(1j*(pp_linew[150:250,:,:,515:775])),\n",
    "                       window=\"hamming\")\n",
    "pp_ps(x1,title=\"LinEW, XX, Times 150:250, Chans 515:775\")\n",
    "x1=psXmedCTimCTri(numpy.exp(1j*(pp_linp30[150:250,:,:,515:775])),\n",
    "                       window=\"hamming\")\n",
    "pp_ps(x1,title=\"Linp30, XX, Times 150:250, Chans 515:775\")\n",
    "x1=psXmedCTimCTri(numpy.exp(1j*(pp_linm30[150:250,:,:,515:775])),\n",
    "                       window=\"hamming\")\n",
    "pp_ps(x1,title=\"Linm30, XX, Times 150:250, Chans 515:775\")\n"
   ]
  },
  {
   "cell_type": "markdown",
   "metadata": {
    "ein.tags": "worksheet-0",
    "slideshow": {
     "slide_type": "-"
    }
   },
   "source": [
    "# YY Polarisations"
   ]
  },
  {
   "cell_type": "code",
   "execution_count": null,
   "metadata": {
    "autoscroll": false,
    "ein.hycell": false,
    "ein.tags": "worksheet-0",
    "slideshow": {
     "slide_type": "-"
    }
   },
   "outputs": [],
   "source": [
    "# Low Channel Range\n",
    "x1=psXmedCTimCTri(numpy.exp(1j*(pp_eq14[150:250,:,:,120:380])),\n",
    "                       window=\"hamming\")\n",
    "pp_ps(x1,title=\"EQ14, XX, Times 150:250, Chans 120:380\")\n",
    "x1=psXmedCTimCTri(numpy.exp(1j*(pp_eq28[150:250,:,:,120:380])),\n",
    "                       window=\"hamming\")\n",
    "pp_ps(x1,title=\"EQ28, XX, Times 150:250, Chans 120:380\")\n",
    "x1=psXmedCTimCTri(numpy.exp(1j*(pp_linew[150:250,:,:,120:380])),\n",
    "                       window=\"hamming\")\n",
    "pp_ps(x1,title=\"LinEW, XX, Times 150:250, Chans 120:380\")\n",
    "x1=psXmedCTimCTri(numpy.exp(1j*(pp_linp30[150:250,:,:,120:380])),\n",
    "                       window=\"hamming\")\n",
    "pp_ps(x1,title=\"Linp30, XX, Times 150:250, Chans 120:380\")\n",
    "x1=psXmedCTimCTri(numpy.exp(1j*(pp_linm30[150:250,:,:,120:380])),\n",
    "                       window=\"hamming\")\n",
    "pp_ps(x1,title=\"Linm30, XX, Times 150:250, Chans 120:380\")"
   ]
  },
  {
   "cell_type": "code",
   "execution_count": null,
   "metadata": {
    "autoscroll": false,
    "ein.hycell": false,
    "ein.tags": "worksheet-0",
    "slideshow": {
     "slide_type": "-"
    }
   },
   "outputs": [],
   "source": [
    "fin_eq14yy=numpy.load(\"/rds/project/bn204/rds-bn204-asterics/jck42/BiSpectrum/Binned_Data/EQ14/YY/output_bin.npz\")\n",
    "fin_eq28yy=numpy.load(\"/rds/project/bn204/rds-bn204-asterics/jck42/BiSpectrum/Binned_Data/EQ28/YY/output_bin.npz\")\n",
    "fin_linewyy=numpy.load(\"/rds/project/bn204/rds-bn204-asterics/jck42/BiSpectrum/Binned_Data/LinEW/YY/output_bin.npz\")\n",
    "fin_linp30yy=numpy.load(\"/rds/project/bn204/rds-bn204-asterics/jck42/BiSpectrum/Binned_Data/Linp30/YY/output_bin.npz\")\n",
    "fin_linm30yy=numpy.load(\"/rds/project/bn204/rds-bn204-asterics/jck42/BiSpectrum/Binned_Data/Linm30/YY/output_bin.npz\")\n",
    "dd_eq14yy = fin_eq14yy['closures']\n",
    "dd_eq28yy = fin_eq28yy['closures']\n",
    "dd_linewyy = fin_linewyy['closures']\n",
    "dd_linp30yy = fin_linp30yy['closures']\n",
    "dd_linm30yy = fin_linm30yy['closures']"
   ]
  },
  {
   "cell_type": "code",
   "execution_count": null,
   "metadata": {
    "autoscroll": false,
    "ein.hycell": false,
    "ein.tags": "worksheet-0",
    "slideshow": {
     "slide_type": "-"
    }
   },
   "outputs": [],
   "source": [
    "#Medians for Equilateral 14m triads\n",
    "pp_eq14_1_yy=mdays(dd_eq14yy[:,0:8], 1)\n",
    "pp_eq14_2_yy=mdays(dd_eq14yy[:,8:], 1)\n",
    "pp_eq14_yy=numpy.concatenate((pp_eq14_1_yy, pp_eq14_2_yy), axis=1)       \n",
    "\n",
    "#Medians for ever other Equilateral 28m triads\n",
    "pp_eq28_1_yy=mdays(dd_eq28yy[:,0:8], 1)\n",
    "pp_eq28_2_yy=mdays(dd_eq28yy[:,8:], 1)\n",
    "pp_eq28_yy=numpy.concatenate((pp_eq28_1_yy, pp_eq28_2_yy), axis=1)  \n",
    "\n",
    "#Medians for every other Linear East-West Triads\n",
    "pp_linew_1_yy=mdays(dd_linewyy[:,0:8], 1)\n",
    "pp_linew_2_yy=mdays(dd_linewyy[:,8:], 1)\n",
    "pp_linew_yy=numpy.concatenate((pp_linew_1_yy, pp_linew_2_yy), axis=1)\n",
    "\n",
    "#Medians for every other Linear 30 degree Triads\n",
    "pp_linp30_1_yy=mdays(dd_linp30yy[:,0:8], 1)\n",
    "pp_linp30_2_yy=mdays(dd_linp30yy[:,8:], 1)\n",
    "pp_linp30_yy=numpy.concatenate((pp_linp30_1_yy, pp_linp30_2_yy), axis=1)\n",
    "\n",
    "#Medians for every other Linear 180-30 degree Triads\n",
    "pp_linm30_1_yy=mdays(dd_linm30yy[:,0:8], 1)\n",
    "pp_linm30_2_yy=mdays(dd_linm30yy[:,8:], 1)\n",
    "pp_linm30_yy=numpy.concatenate((pp_linm30_1_yy, pp_linm30_2_yy), axis=1)"
   ]
  },
  {
   "cell_type": "code",
   "execution_count": null,
   "metadata": {
    "autoscroll": false,
    "ein.hycell": false,
    "ein.tags": "worksheet-0",
    "scrolled": false,
    "slideshow": {
     "slide_type": "-"
    }
   },
   "outputs": [],
   "source": [
    "# High Channel Range\n",
    "x1=psXmedCTimCTri(numpy.exp(1j*(pp_eq14_yy[150:250,:,:,515:775])),\n",
    "                       window=\"hamming\")\n",
    "pp_ps(x1,title=\"EQ14, YY, Times 150:250, Chans 515:775\")\n",
    "x1=psXmedCTimCTri(numpy.exp(1j*(pp_eq28_yy[150:250,:,:,515:775])),\n",
    "                       window=\"hamming\")\n",
    "pp_ps(x1,title=\"EQ28, YY, Times 150:250, Chans 515:775\")\n",
    "x1=psXmedCTimCTri(numpy.exp(1j*(pp_linew_yy[150:250,:,:,515:775])),\n",
    "                       window=\"hamming\")\n",
    "pp_ps(x1,title=\"LinEW, YY, Times 150:250, Chans 515:775\")\n",
    "x1=psXmedCTimCTri(numpy.exp(1j*(pp_linp30_yy[150:250,:,:,515:775])),\n",
    "                       window=\"hamming\")\n",
    "pp_ps(x1,title=\"Linp30, YY, Times 150:250, Chans 515:775\")\n",
    "x1=psXmedCTimCTri(numpy.exp(1j*(pp_linm30_yy[150:250,:,:,515:775])),\n",
    "                       window=\"hamming\")\n",
    "pp_ps(x1,title=\"Linm30, YY, Times 150:250, Chans 515:775\")"
   ]
  },
  {
   "cell_type": "code",
   "execution_count": null,
   "metadata": {
    "autoscroll": false,
    "ein.hycell": false,
    "ein.tags": "worksheet-0",
    "scrolled": false,
    "slideshow": {
     "slide_type": "-"
    }
   },
   "outputs": [],
   "source": [
    "# Low Channel Range\n",
    "x1=psXmedCTimCTri(numpy.exp(1j*(pp_eq14_yy[150:250,:,:,120:380])),\n",
    "                       window=\"hamming\")\n",
    "pp_ps(x1,title=\"EQ14, YY, Times 150:250, Chans 120:380\")\n",
    "x1=psXmedCTimCTri(numpy.exp(1j*(pp_eq28_yy[150:250,:,:,120:380])),\n",
    "                       window=\"hamming\")\n",
    "pp_ps(x1,title=\"EQ28, YY, Times 150:250, Chans 120:380\")\n",
    "x1=psXmedCTimCTri(numpy.exp(1j*(pp_linew_yy[150:250,:,:,120:380])),\n",
    "                       window=\"hamming\")\n",
    "pp_ps(x1,title=\"LinEW, YY, Times 150:250, Chans 120:380\")\n",
    "x1=psXmedCTimCTri(numpy.exp(1j*(pp_linp30_yy[150:250,:,:,120:380])),\n",
    "                       window=\"hamming\")\n",
    "pp_ps(x1,title=\"Linp30, YY, Times 150:250, Chans 120:380\")\n",
    "x1=psXmedCTimCTri(numpy.exp(1j*(pp_linm30_yy[150:250,:,:,120:380])),\n",
    "                       window=\"hamming\")\n",
    "pp_ps(x1,title=\"Linm30, YY, Times 150:250, Chans 120:380\")"
   ]
  },
  {
   "cell_type": "code",
   "execution_count": null,
   "metadata": {
    "autoscroll": false,
    "ein.hycell": false,
    "ein.tags": "worksheet-0",
    "slideshow": {
     "slide_type": "-"
    }
   },
   "outputs": [],
   "source": []
  },
  {
   "cell_type": "code",
   "execution_count": null,
   "metadata": {},
   "outputs": [],
   "source": []
  },
  {
   "cell_type": "code",
   "execution_count": null,
   "metadata": {},
   "outputs": [],
   "source": []
  }
 ],
 "metadata": {
  "kernelspec": {
   "display_name": "Python 2",
   "language": "python",
   "name": "python2"
  },
  "language_info": {
   "codemirror_mode": {
    "name": "ipython",
    "version": 2
   },
   "file_extension": ".py",
   "mimetype": "text/x-python",
   "name": "python",
   "nbconvert_exporter": "python",
   "pygments_lexer": "ipython2",
   "version": "2.7.15"
  },
  "name": "analysis-jup-150-250.ipynb"
 },
 "nbformat": 4,
 "nbformat_minor": 2
}
