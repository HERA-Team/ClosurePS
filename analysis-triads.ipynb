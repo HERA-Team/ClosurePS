{
 "cells": [
  {
   "cell_type": "code",
   "execution_count": null,
   "metadata": {
    "autoscroll": false,
    "ein.hycell": false,
    "ein.tags": "worksheet-0",
    "slideshow": {
     "slide_type": "-"
    }
   },
   "outputs": [],
   "source": [
    "import numpy\n",
    "from matplotlib import pylab\n",
    "import matplotlib.pyplot as plt\n",
    "fin_eq14=numpy.load(\"/rds/project/bn204/rds-bn204-asterics/jck42/BiSpectrum/Binned_Data_IDR2/EQ14/XX/output_bin.npz\")\n",
    "fin_eq28=numpy.load(\"/rds/project/bn204/rds-bn204-asterics/jck42/BiSpectrum/Binned_Data_IDR2/EQ28/XX/output_bin.npz\")\n",
    "fin_linew=numpy.load(\"/rds/project/bn204/rds-bn204-asterics/jck42/BiSpectrum/Binned_Data_IDR2/LinEW/XX/output_bin.npz\")\n",
    "fin_linp30=numpy.load(\"/rds/project/bn204/rds-bn204-asterics/jck42/BiSpectrum/Binned_Data_IDR2/Linp30/XX/output_bin.npz\")\n",
    "fin_linm30=numpy.load(\"/rds/project/bn204/rds-bn204-asterics/jck42/BiSpectrum/Binned_Data_IDR2/Linm30/XX/output_bin.npz\")\n",
    "dd_eq14 = fin_eq14['closures']\n",
    "dd_eq28 = fin_eq28['closures']\n",
    "dd_linew = fin_linew['closures']\n",
    "dd_linp30 = fin_linp30['closures']\n",
    "dd_linm30 = fin_linm30['closures']"
   ]
  },
  {
   "cell_type": "code",
   "execution_count": null,
   "metadata": {
    "autoscroll": false,
    "ein.hycell": false,
    "ein.tags": "worksheet-0",
    "slideshow": {
     "slide_type": "-"
    }
   },
   "outputs": [],
   "source": [
    "%run procps.py\n",
    "%run plotprelude.py"
   ]
  },
  {
   "cell_type": "code",
   "execution_count": null,
   "metadata": {
    "autoscroll": false,
    "ein.hycell": false,
    "ein.tags": "worksheet-0",
    "slideshow": {
     "slide_type": "-"
    }
   },
   "outputs": [],
   "source": [
    "#Medians for Equilateral 14m triads\n",
    "pp_eq14_1=mdays(dd_eq14[:,0:8], 1)\n",
    "pp_eq14_2=mdays(dd_eq14[:,8:], 1)\n",
    "pp_eq14=numpy.concatenate((pp_eq14_1, pp_eq14_2), axis=1)       \n",
    "\n",
    "#Medians for ever other Equilateral 28m triads\n",
    "pp_eq28_1=mdays(dd_eq28[:,0:8], 1)\n",
    "pp_eq28_2=mdays(dd_eq28[:,8:], 1)\n",
    "pp_eq28=numpy.concatenate((pp_eq28_1, pp_eq28_2), axis=1)  \n",
    "\n",
    "#Medians for every other Linear East-West Triads\n",
    "pp_linew_1=mdays(dd_linew[:,0:8], 1)\n",
    "pp_linew_2=mdays(dd_linew[:,8:], 1)\n",
    "pp_linew=numpy.concatenate((pp_linew_1, pp_linew_2), axis=1)\n",
    "\n",
    "#Medians for every other Linear 30 degree Triads\n",
    "pp_linp30_1=mdays(dd_linp30[:,0:8], 1)\n",
    "pp_linp30_2=mdays(dd_linp30[:,8:], 1)\n",
    "pp_linp30=numpy.concatenate((pp_linp30_1, pp_linp30_2), axis=1)\n",
    "\n",
    "#Medians for every other Linear 180-30 degree Triads\n",
    "pp_linm30_1=mdays(dd_linm30[:,0:8], 1)\n",
    "pp_linm30_2=mdays(dd_linm30[:,8:], 1)\n",
    "pp_linm30=numpy.concatenate((pp_linm30_1, pp_linm30_2), axis=1)"
   ]
  },
  {
   "cell_type": "code",
   "execution_count": null,
   "metadata": {},
   "outputs": [],
   "source": [
    "def plot_delay_spectrum_at(delay_spectrum,time_min,time_max,chan_min,chan_max,title=\"\"):\n",
    "    x1=psXmedCTim(numpy.exp(1j*(delay_spectrum[time_min:time_max,:,:,chan_min:chan_max])),\n",
    "                       window=\"hamming\")\n",
    "    \n",
    "    hdtr = x1[:,-20:-1]\n",
    "\n",
    "    maxr = numpy.max(hdtr,axis=1)\n",
    "    minr = numpy.min(hdtr,axis=1)\n",
    "    meanr = numpy.mean(hdtr,axis=1)\n",
    "    rng = maxr-minr\n",
    "    var = numpy.var(hdtr,axis=1)\n",
    "\n",
    "    \n",
    "\n",
    "    xvar = x1.shape[-1]\n",
    "    fig=mkfig()\n",
    "\n",
    "    ax=fig.add_subplot(111)\n",
    "    xvar = (numpy.arange(128)-64)*80\n",
    "    for i in numpy.arange(x1.shape[0]):\n",
    "        pylab.semilogy(xvar,x1[i,:],label = 'EQ14 XX, UB, Triad %d'%i,alpha=0.7,linewidth=0.2)\n",
    "\n",
    "    ax.set_xlabel(\"Delay (ns)\")\n",
    "    ax.set_ylabel(\"CSD\")\n",
    "    ax.set_title(title)\n",
    "    ax.set_ylim([10e-9,10e-0])\n",
    "    #ax.legend(loc=0)\n",
    "    ax.xaxis.set_ticks_position('bottom')\n",
    "    ax.grid()"
   ]
  },
  {
   "cell_type": "markdown",
   "metadata": {
    "ein.tags": "worksheet-0",
    "slideshow": {
     "slide_type": "-"
    }
   },
   "source": [
    "# XX Polarisations"
   ]
  },
  {
   "cell_type": "code",
   "execution_count": null,
   "metadata": {
    "autoscroll": false,
    "ein.hycell": false,
    "ein.tags": "worksheet-0",
    "slideshow": {
     "slide_type": "-"
    }
   },
   "outputs": [],
   "source": [
    "# High Channel Range\n",
    "plot_delay_spectrum_at(pp_eq14,150,250,515,775,\"EQ14 XX\")\n",
    "plot_delay_spectrum_at(pp_eq28,150,250,515,775,\"EQ28 XX\")\n",
    "plot_delay_spectrum_at(pp_linew,150,250,515,775,\"LinEW XX\")\n",
    "plot_delay_spectrum_at(pp_linp30,150,250,515,775,\"LinP30 XX\")\n",
    "plot_delay_spectrum_at(pp_linm30,150,250,515,775,\"LinM30 XX\")"
   ]
  },
  {
   "cell_type": "code",
   "execution_count": null,
   "metadata": {
    "autoscroll": false,
    "ein.hycell": false,
    "ein.tags": "worksheet-0",
    "slideshow": {
     "slide_type": "-"
    }
   },
   "outputs": [],
   "source": [
    "# Low Channel Range\n",
    "plot_delay_spectrum_at(pp_eq14,150,250,120,380,\"EQ14 XX\")\n",
    "plot_delay_spectrum_at(pp_eq28,150,250,120,380,\"EQ28 XX\")\n",
    "plot_delay_spectrum_at(pp_linew,150,250,120,380,\"LinEW XX\")\n",
    "plot_delay_spectrum_at(pp_linp30,150,250,120,380,\"LinP30 XX\")\n",
    "plot_delay_spectrum_at(pp_linm30,150,250,120,380,\"LinM30 XX\")"
   ]
  },
  {
   "cell_type": "markdown",
   "metadata": {
    "ein.tags": "worksheet-0",
    "slideshow": {
     "slide_type": "-"
    }
   },
   "source": [
    "# YY Polarisations"
   ]
  },
  {
   "cell_type": "code",
   "execution_count": null,
   "metadata": {
    "autoscroll": false,
    "ein.hycell": false,
    "ein.tags": "worksheet-0",
    "slideshow": {
     "slide_type": "-"
    }
   },
   "outputs": [],
   "source": [
    "fin_eq14yy=numpy.load(\"/rds/project/bn204/rds-bn204-asterics/jck42/BiSpectrum/Binned_Data_IDR2/EQ14/YY/output_bin.npz\")\n",
    "fin_eq28yy=numpy.load(\"/rds/project/bn204/rds-bn204-asterics/jck42/BiSpectrum/Binned_Data_IDR2/EQ28/YY/output_bin.npz\")\n",
    "fin_linewyy=numpy.load(\"/rds/project/bn204/rds-bn204-asterics/jck42/BiSpectrum/Binned_Data_IDR2/LinEW/YY/output_bin.npz\")\n",
    "fin_linp30yy=numpy.load(\"/rds/project/bn204/rds-bn204-asterics/jck42/BiSpectrum/Binned_Data_IDR2/Linp30/YY/output_bin.npz\")\n",
    "fin_linm30yy=numpy.load(\"/rds/project/bn204/rds-bn204-asterics/jck42/BiSpectrum/Binned_Data_IDR2/Linm30/YY/output_bin.npz\")\n",
    "dd_eq14yy = fin_eq14yy['closures']\n",
    "dd_eq28yy = fin_eq28yy['closures']\n",
    "dd_linewyy = fin_linewyy['closures']\n",
    "dd_linp30yy = fin_linp30yy['closures']\n",
    "dd_linm30yy = fin_linm30yy['closures']"
   ]
  },
  {
   "cell_type": "code",
   "execution_count": null,
   "metadata": {
    "autoscroll": false,
    "ein.hycell": false,
    "ein.tags": "worksheet-0",
    "slideshow": {
     "slide_type": "-"
    }
   },
   "outputs": [],
   "source": [
    "#Medians for Equilateral 14m triads\n",
    "pp_eq14_1_yy=mdays(dd_eq14yy[:,0:8], 1)\n",
    "pp_eq14_2_yy=mdays(dd_eq14yy[:,8:], 1)\n",
    "pp_eq14_yy=numpy.concatenate((pp_eq14_1_yy, pp_eq14_2_yy), axis=1)       \n",
    "\n",
    "#Medians for ever other Equilateral 28m triads\n",
    "pp_eq28_1_yy=mdays(dd_eq28yy[:,0:8], 1)\n",
    "pp_eq28_2_yy=mdays(dd_eq28yy[:,8:], 1)\n",
    "pp_eq28_yy=numpy.concatenate((pp_eq28_1_yy, pp_eq28_2_yy), axis=1)  \n",
    "\n",
    "#Medians for every other Linear East-West Triads\n",
    "pp_linew_1_yy=mdays(dd_linewyy[:,0:8], 1)\n",
    "pp_linew_2_yy=mdays(dd_linewyy[:,8:], 1)\n",
    "pp_linew_yy=numpy.concatenate((pp_linew_1_yy, pp_linew_2_yy), axis=1)\n",
    "\n",
    "#Medians for every other Linear 30 degree Triads\n",
    "pp_linp30_1_yy=mdays(dd_linp30yy[:,0:8], 1)\n",
    "pp_linp30_2_yy=mdays(dd_linp30yy[:,8:], 1)\n",
    "pp_linp30_yy=numpy.concatenate((pp_linp30_1_yy, pp_linp30_2_yy), axis=1)\n",
    "\n",
    "#Medians for every other Linear 180-30 degree Triads\n",
    "pp_linm30_1_yy=mdays(dd_linm30yy[:,0:8], 1)\n",
    "pp_linm30_2_yy=mdays(dd_linm30yy[:,8:], 1)\n",
    "pp_linm30_yy=numpy.concatenate((pp_linm30_1_yy, pp_linm30_2_yy), axis=1)"
   ]
  },
  {
   "cell_type": "code",
   "execution_count": null,
   "metadata": {
    "autoscroll": false,
    "ein.hycell": false,
    "ein.tags": "worksheet-0",
    "slideshow": {
     "slide_type": "-"
    }
   },
   "outputs": [],
   "source": [
    "# High Channel Range\n",
    "plot_delay_spectrum_at(pp_eq14_yy,150,250,515,775,\"EQ14 YY\")\n",
    "plot_delay_spectrum_at(pp_eq28_yy,150,250,515,775,\"EQ28 YY\")\n",
    "plot_delay_spectrum_at(pp_linew_yy,150,250,515,775,\"LinEW YY\")\n",
    "plot_delay_spectrum_at(pp_linp30_yy,150,250,515,775,\"LinP30 YY\")\n",
    "plot_delay_spectrum_at(pp_linm30_yy,150,250,515,775,\"LinM30 YY\")"
   ]
  },
  {
   "cell_type": "code",
   "execution_count": null,
   "metadata": {
    "autoscroll": false,
    "ein.hycell": false,
    "ein.tags": "worksheet-0",
    "slideshow": {
     "slide_type": "-"
    }
   },
   "outputs": [],
   "source": [
    "# Low Channel Range\n",
    "plot_delay_spectrum_at(pp_eq14_yy,150,250,120,380,\"EQ14 YY\")\n",
    "plot_delay_spectrum_at(pp_eq28_yy,150,250,120,380,\"EQ28 YY\")\n",
    "plot_delay_spectrum_at(pp_linew_yy,150,250,120,380,\"LinEW YY\")\n",
    "plot_delay_spectrum_at(pp_linp30_yy,150,250,120,380,\"LinP30 YY\")\n",
    "plot_delay_spectrum_at(pp_linm30_yy,150,250,120,380,\"LinM30 YY\")"
   ]
  },
  {
   "cell_type": "markdown",
   "metadata": {},
   "source": [
    "# XX Polarisations in the 06:00 to 09:00 LST Field"
   ]
  },
  {
   "cell_type": "code",
   "execution_count": null,
   "metadata": {
    "autoscroll": false,
    "ein.hycell": false,
    "ein.tags": "worksheet-0",
    "slideshow": {
     "slide_type": "-"
    }
   },
   "outputs": [],
   "source": [
    "fin_eq14_xx_0609 = numpy.load(\"/rds/project/bn204/rds-bn204-asterics/jck42/BiSpectrum/Binned_Data_0600_0900/lst_0600_0900_eq14xx.npz\")\n",
    "fin_eq28_xx_0609 = numpy.load(\"/rds/project/bn204/rds-bn204-asterics/jck42/BiSpectrum/Binned_Data_0600_0900/lst_0600_0900_eq28xx.npz\")\n",
    "fin_linm30_xx_0609 = numpy.load(\"/rds/project/bn204/rds-bn204-asterics/jck42/BiSpectrum/Binned_Data_0600_0900/lst_0600_0900_linm30xx.npz\")\n",
    "fin_linp30_xx_0609 = numpy.load(\"/rds/project/bn204/rds-bn204-asterics/jck42/BiSpectrum/Binned_Data_0600_0900/lst_0600_0900_linp30xx.npz\")\n",
    "fin_linew_xx_0609 = numpy.load(\"/rds/project/bn204/rds-bn204-asterics/jck42/BiSpectrum/Binned_Data_0600_0900/lst_0600_0900_linewxx.npz\")\n",
    "cl_eq14_xx_0609 = fin_eq14_xx_0609['closures']\n",
    "cl_eq28_xx_0609 = fin_eq28_xx_0609['closures']\n",
    "cl_linm30_xx_0609 = fin_linm30_xx_0609['closures']\n",
    "cl_linp30_xx_0609 = fin_linp30_xx_0609['closures']\n",
    "cl_linew_xx_0609 = fin_linew_xx_0609['closures']"
   ]
  },
  {
   "cell_type": "code",
   "execution_count": null,
   "metadata": {},
   "outputs": [],
   "source": [
    "eq14xx_0609_days = cl_eq14_xx_0609.shape[1]/2\n",
    "eq28xx_0609_days = cl_eq28_xx_0609.shape[1]/2\n",
    "linm30xx_0609_days = cl_linm30_xx_0609.shape[1]/2\n",
    "linp30xx_0609_days = cl_linp30_xx_0609.shape[1]/2\n",
    "linewxx_0609_days = cl_linew_xx_0609.shape[1]/2\n",
    "\n",
    "print(eq14xx_0609_days)\n",
    "print(eq28xx_0609_days)\n",
    "print(linm30xx_0609_days)\n",
    "print(linp30xx_0609_days)\n",
    "print(linewxx_0609_days)\n",
    "\n",
    "pp_eq14xx_0609_1=mdays(cl_eq14_xx_0609[:,0:eq14xx_0609_days], 1)\n",
    "pp_eq14xx_0609_2=mdays(cl_eq14_xx_0609[:,eq14xx_0609_days:], 1)\n",
    "\n",
    "pp_eq28xx_0609_1=mdays(cl_eq28_xx_0609[:,0:eq28xx_0609_days], 1)\n",
    "pp_eq28xx_0609_2=mdays(cl_eq28_xx_0609[:,eq28xx_0609_days:], 1)\n",
    "\n",
    "pp_linm30xx_0609_1=mdays(cl_linm30_xx_0609[:,0:linm30xx_0609_days],1)\n",
    "pp_linm30xx_0609_2=mdays(cl_linm30_xx_0609[:,linm30xx_0609_days:],1)\n",
    "\n",
    "pp_linp30xx_0609_1=mdays(cl_linp30_xx_0609[:,0:linp30xx_0609_days],1)\n",
    "pp_linp30xx_0609_2=mdays(cl_linp30_xx_0609[:,linp30xx_0609_days:],1)\n",
    "\n",
    "pp_linewxx_0609_1=mdays(cl_linew_xx_0609[:,0:linewxx_0609_days],1)\n",
    "pp_linewxx_0609_2=mdays(cl_linew_xx_0609[:,linewxx_0609_days:],1)"
   ]
  },
  {
   "cell_type": "code",
   "execution_count": null,
   "metadata": {},
   "outputs": [],
   "source": [
    "pp_eq14xx_0609 = numpy.concatenate((pp_eq14xx_0609_1,pp_eq14xx_0609_2),axis=1)\n",
    "pp_eq28xx_0609 = numpy.concatenate((pp_eq28xx_0609_1,pp_eq28xx_0609_2),axis=1)\n",
    "pp_linm30xx_0609 = numpy.concatenate((pp_linm30xx_0609_1,pp_linm30xx_0609_2),axis=1)\n",
    "pp_linp30xx_0609 = numpy.concatenate((pp_linp30xx_0609_1,pp_linp30xx_0609_2),axis=1)\n",
    "pp_linewxx_0609 = numpy.concatenate((pp_linewxx_0609_1,pp_linewxx_0609_2),axis=1)"
   ]
  },
  {
   "cell_type": "code",
   "execution_count": null,
   "metadata": {},
   "outputs": [],
   "source": [
    "cl_eq28xx_0609 = fin_eq28_xx_0609['last'][350:550]\n",
    "cl_linm30xx_0609 = fin_linm30_xx_0609['last']\n",
    "cl_linp30xx_0609 = fin_linp30_xx_0609['last']"
   ]
  },
  {
   "cell_type": "code",
   "execution_count": null,
   "metadata": {},
   "outputs": [],
   "source": [
    "#print(cl_eq14xx_0609[350:550,0])\n",
    "print(cl_linm30xx_0609[350:550,0])\n",
    "#print(cl_linp30xx_0609[350:550,0])"
   ]
  },
  {
   "cell_type": "code",
   "execution_count": null,
   "metadata": {},
   "outputs": [],
   "source": [
    "# Low Channel Range\n",
    "plot_delay_spectrum_at(pp_eq14_yy,150,250,120,380,\"EQ14 YY\")\n",
    "plot_delay_spectrum_at(pp_eq28_yy,150,250,120,380,\"EQ28 YY\")\n",
    "plot_delay_spectrum_at(pp_linew_yy,150,250,120,380,\"LinEW YY\")\n",
    "plot_delay_spectrum_at(pp_linp30_yy,150,250,120,380,\"LinP30 YY\")\n",
    "plot_delay_spectrum_at(pp_linm30_yy,150,250,120,380,\"LinM30 YY\")"
   ]
  },
  {
   "cell_type": "markdown",
   "metadata": {},
   "source": [
    "## YY Polarisations"
   ]
  },
  {
   "cell_type": "code",
   "execution_count": null,
   "metadata": {},
   "outputs": [],
   "source": [
    "fin_eq14_yy_0609 = numpy.load(\"/rds/project/bn204/rds-bn204-asterics/jck42/BiSpectrum/Binned_Data_0600_0900/lst_0600_0900_eq14yy.npz\")\n",
    "fin_eq28_yy_0609 = numpy.load(\"/rds/project/bn204/rds-bn204-asterics/jck42/BiSpectrum/Binned_Data_0600_0900/lst_0600_0900_eq28yy.npz\")\n",
    "fin_linm30_yy_0609 = numpy.load(\"/rds/project/bn204/rds-bn204-asterics/jck42/BiSpectrum/Binned_Data_0600_0900/lst_0600_0900_linm30yy.npz\")\n",
    "fin_linp30_yy_0609 = numpy.load(\"/rds/project/bn204/rds-bn204-asterics/jck42/BiSpectrum/Binned_Data_0600_0900/lst_0600_0900_linp30yy.npz\")\n",
    "fin_linew_yy_0609 = numpy.load(\"/rds/project/bn204/rds-bn204-asterics/jck42/BiSpectrum/Binned_Data_0600_0900/lst_0600_0900_linewyy.npz\")\n",
    "                               \n",
    "\n",
    "cl_eq14_yy_0609 = fin_eq14_yy_0609['closures']\n",
    "cl_eq28_yy_0609 = fin_eq28_yy_0609['closures']\n",
    "cl_linm30_yy_0609 = fin_linm30_yy_0609['closures']\n",
    "cl_linp30_yy_0609 = fin_linp30_yy_0609['closures']\n",
    "cl_linew_yy_0609 = fin_linew_yy_0609['closures']"
   ]
  },
  {
   "cell_type": "code",
   "execution_count": null,
   "metadata": {},
   "outputs": [],
   "source": [
    "eq14yy_0609_days = cl_eq14_yy_0609.shape[1]/2\n",
    "eq28yy_0609_days = cl_eq28_yy_0609.shape[1]/2\n",
    "linm30yy_0609_days = cl_linm30_yy_0609.shape[1]/2\n",
    "linp30yy_0609_days = cl_linp30_yy_0609.shape[1]/2\n",
    "linewyy_0609_days = cl_linew_yy_0609.shape[1]/2\n",
    "\n",
    "print(eq14yy_0609_days)\n",
    "print(eq28yy_0609_days)\n",
    "print(linm30yy_0609_days)\n",
    "print(linp30yy_0609_days)\n",
    "print(linewyy_0609_days)\n",
    "\n",
    "\n",
    "pp_eq14yy_0609_1=mdays(cl_eq14_yy_0609[:,0:eq14yy_0609_days], 1)\n",
    "pp_eq14yy_0609_2=mdays(cl_eq14_yy_0609[:,eq14yy_0609_days:], 1)\n",
    "\n",
    "pp_eq28yy_0609_1=mdays(cl_eq28_yy_0609[:,0:eq28yy_0609_days], 1)\n",
    "pp_eq28yy_0609_2=mdays(cl_eq28_yy_0609[:,eq28yy_0609_days:], 1)\n",
    "\n",
    "pp_linm30yy_0609_1=mdays(cl_linm30_yy_0609[:,0:linm30yy_0609_days],1)\n",
    "pp_linm30yy_0609_2=mdays(cl_linm30_yy_0609[:,linm30yy_0609_days:],1)\n",
    "\n",
    "pp_linp30yy_0609_1=mdays(cl_linp30_yy_0609[:,0:linp30yy_0609_days],1)\n",
    "pp_linp30yy_0609_2=mdays(cl_linp30_yy_0609[:,linp30yy_0609_days:],1)\n",
    "\n",
    "pp_linewyy_0609_1=mdays(cl_linew_yy_0609[:,0:linewyy_0609_days],1)\n",
    "pp_linewyy_0609_2=mdays(cl_linew_yy_0609[:,linewyy_0609_days:],1)"
   ]
  },
  {
   "cell_type": "code",
   "execution_count": null,
   "metadata": {},
   "outputs": [],
   "source": [
    "pp_eq14yy_0609 = numpy.concatenate((pp_eq14yy_0609_1,pp_eq14yy_0609_2),axis=1)\n",
    "pp_eq28yy_0609 = numpy.concatenate((pp_eq28yy_0609_1,pp_eq28yy_0609_2),axis=1)\n",
    "pp_linm30yy_0609 = numpy.concatenate((pp_linm30yy_0609_1,pp_linm30yy_0609_2),axis=1)\n",
    "pp_linp30yy_0609 = numpy.concatenate((pp_linp30yy_0609_1,pp_linp30yy_0609_2),axis=1)\n",
    "pp_linewyy_0609 = numpy.concatenate((pp_linewyy_0609_1,pp_linewyy_0609_2),axis=1)"
   ]
  },
  {
   "cell_type": "markdown",
   "metadata": {},
   "source": [
    "# Histogram Plots (for Memo)"
   ]
  },
  {
   "cell_type": "markdown",
   "metadata": {},
   "source": [
    "## Fornax Field"
   ]
  },
  {
   "cell_type": "code",
   "execution_count": null,
   "metadata": {},
   "outputs": [],
   "source": [
    "fig=plt.figure(figsize=(5,7.5),dpi=160)\n",
    "\n",
    "x1=psXmedCTim(numpy.exp(1j*(pp_eq14[150:250,:,:,120:380])),\n",
    "                       window=\"hamming\")\n",
    "ax0=fig.add_subplot(521)\n",
    "ax0.hist(numpy.mean(x1[:,-20:-1],axis=1),bins=numpy.logspace(numpy.log10(10e-10),numpy.log10(10e-5), 30))\n",
    "ax0.set_xscale('log')\n",
    "ax0.set_ylim((0,15))\n",
    "ax0.set_title(\"EQ14,XX\")\n",
    "\n",
    "x1=psXmedCTim(numpy.exp(1j*(pp_eq14_yy[150:250,:,:,120:380])),\n",
    "                       window=\"hamming\")\n",
    "ax1=fig.add_subplot(522)\n",
    "ax1.hist(numpy.mean(x1[:,-20:-1],axis=1),bins=numpy.logspace(numpy.log10(10e-10),numpy.log10(10e-5), 30))\n",
    "ax1.set_xscale('log')\n",
    "ax1.set_title(\"EQ14,YY\")\n",
    "ax1.set_ylim((0,15))\n",
    "x1=psXmedCTim(numpy.exp(1j*(pp_eq28[150:250,:,:,120:380])),\n",
    "                       window=\"hamming\")\n",
    "ax2=fig.add_subplot(523)\n",
    "ax2.hist(numpy.mean(x1[:,-20:-1],axis=1),bins=numpy.logspace(numpy.log10(10e-10),numpy.log10(10e-5), 30))\n",
    "ax2.set_xscale('log')\n",
    "ax2.set_ylim((0,15))\n",
    "ax2.set_title(\"EQ28,XX\")\n",
    "\n",
    "x1=psXmedCTim(numpy.exp(1j*(pp_eq28_yy[150:250,:,:,120:380])),\n",
    "                       window=\"hamming\")\n",
    "ax3=fig.add_subplot(524)\n",
    "ax3.hist(numpy.mean(x1[:,-20:-1],axis=1),bins=numpy.logspace(numpy.log10(10e-10),numpy.log10(10e-5), 30))\n",
    "ax3.set_xscale('log')\n",
    "ax3.set_ylim((0,15))\n",
    "ax3.set_title(\"EQ28,YY\")\n",
    "\n",
    "x1=psXmedCTim(numpy.exp(1j*(pp_linp30[150:250,:,:,120:380])),\n",
    "                       window=\"hamming\")\n",
    "ax4=fig.add_subplot(525)\n",
    "ax4.hist(numpy.mean(x1[:,-20:-1],axis=1),bins=numpy.logspace(numpy.log10(10e-10),numpy.log10(10e-5), 30))\n",
    "ax4.set_xscale('log')\n",
    "ax4.set_ylim((0,15))\n",
    "ax4.set_title(\"LinP30,XX\")\n",
    "\n",
    "x1=psXmedCTim(numpy.exp(1j*(pp_linp30_yy[150:250,:,:,120:380])),\n",
    "                       window=\"hamming\")\n",
    "ax5=fig.add_subplot(526)\n",
    "ax5.hist(numpy.mean(x1[:,-20:-1],axis=1),bins=numpy.logspace(numpy.log10(10e-10),numpy.log10(10e-5), 30))\n",
    "ax5.set_xscale('log')\n",
    "ax5.set_ylim((0,15))\n",
    "ax5.set_title(\"LinP30,YY\")\n",
    "\n",
    "x1=psXmedCTim(numpy.exp(1j*(pp_linm30[150:250,:,:,120:380])),\n",
    "                       window=\"hamming\")\n",
    "ax6=fig.add_subplot(527)\n",
    "ax6.hist(numpy.mean(x1[:,-20:-1],axis=1),bins=numpy.logspace(numpy.log10(10e-10),numpy.log10(10e-5), 30))\n",
    "ax6.set_xscale('log')\n",
    "ax6.set_ylim((0,15))\n",
    "ax6.set_title(\"LinM30,XX\")\n",
    "\n",
    "x1=psXmedCTim(numpy.exp(1j*(pp_linm30_yy[150:250,:,:,120:380])),\n",
    "                       window=\"hamming\")\n",
    "ax7=fig.add_subplot(528)\n",
    "ax7.hist(numpy.mean(x1[:,-20:-1],axis=1),bins=numpy.logspace(numpy.log10(10e-10),numpy.log10(10e-5), 30))\n",
    "ax7.set_xscale('log')\n",
    "ax7.set_ylim((0,15))\n",
    "ax7.set_title(\"LinM30,YY\")\n",
    "fig.tight_layout()\n",
    "\n",
    "x1=psXmedCTim(numpy.exp(1j*(pp_linew[150:250,:,:,120:380])),\n",
    "                       window=\"hamming\")\n",
    "ax8=fig.add_subplot(529)\n",
    "ax8.hist(numpy.mean(x1[:,-20:-1],axis=1),bins=numpy.logspace(numpy.log10(10e-10),numpy.log10(10e-5), 30))\n",
    "ax8.set_xscale('log')\n",
    "ax8.set_ylim((0,15))\n",
    "ax8.set_title(\"LinEW,XX\")\n",
    "\n",
    "x1=psXmedCTim(numpy.exp(1j*(pp_linew_yy[150:250,:,:,120:380])),\n",
    "                       window=\"hamming\")\n",
    "ax9=fig.add_subplot(5,2,10)\n",
    "ax9.hist(numpy.mean(x1[:,-20:-1],axis=1),bins=numpy.logspace(numpy.log10(10e-10),numpy.log10(10e-5), 30))\n",
    "ax9.set_xscale('log')\n",
    "ax9.set_ylim((0,15))\n",
    "ax9.set_title(\"LinEW,YY\")\n",
    "\n",
    "fig.tight_layout()\n",
    "fig.savefig(\"fornaxa_histogram.pdf\")\n"
   ]
  },
  {
   "cell_type": "markdown",
   "metadata": {},
   "source": [
    "## 0600 Field"
   ]
  },
  {
   "cell_type": "code",
   "execution_count": null,
   "metadata": {},
   "outputs": [],
   "source": [
    "fig=plt.figure(figsize=(5,7.5),dpi=160)\n",
    "\n",
    "x1=psXmedCTim(numpy.exp(1j*(pp_eq14xx_0609[350:550,:,:,120:380])),\n",
    "                       window=\"hamming\")\n",
    "ax0=fig.add_subplot(521)\n",
    "plt.hist(numpy.mean(x1[:,-20:-1],axis=1),bins=numpy.logspace(numpy.log10(10e-10),numpy.log10(10e-5), 30))\n",
    "ax0.set_xscale('log')\n",
    "ax0.set_ylim((0,15))\n",
    "ax0.set_title(\"EQ14,XX\")\n",
    "\n",
    "x1=psXmedCTim(numpy.exp(1j*(pp_eq14yy_0609[350:550,:,:,120:380])),\n",
    "                       window=\"hamming\")\n",
    "ax1=fig.add_subplot(522)\n",
    "plt.hist(numpy.mean(x1[:,-20:-1],axis=1),bins=numpy.logspace(numpy.log10(10e-10),numpy.log10(10e-5), 30))\n",
    "ax1.set_xscale('log')\n",
    "ax1.set_ylim((0,15))\n",
    "ax1.set_title(\"EQ14,YY\")\n",
    "\n",
    "\n",
    "x1=psXmedCTim(numpy.exp(1j*(pp_eq28xx_0609[350:550,:,:,120:380])),\n",
    "                       window=\"hamming\")\n",
    "ax2=fig.add_subplot(523)\n",
    "plt.hist(numpy.mean(x1[:,-20:-1],axis=1),bins=numpy.logspace(numpy.log10(10e-10),numpy.log10(10e-5), 30))\n",
    "ax2.set_xscale('log')\n",
    "ax2.set_ylim((0,15))\n",
    "ax2.set_title(\"EQ28,XX\")\n",
    "\n",
    "\n",
    "x1=psXmedCTim(numpy.exp(1j*(pp_eq28yy_0609[350:550,:,:,120:380])),\n",
    "                       window=\"hamming\")\n",
    "ax3=fig.add_subplot(524)\n",
    "plt.hist(numpy.mean(x1[:,-20:-1],axis=1),bins=numpy.logspace(numpy.log10(10e-10),numpy.log10(10e-5), 30))\n",
    "ax3.set_xscale('log')\n",
    "ax3.set_ylim((0,15))\n",
    "ax3.set_title(\"EQ28,YY\")\n",
    "\n",
    "x1=psXmedCTim(numpy.exp(1j*(pp_linp30xx_0609[350:550,:,:,120:380])),\n",
    "                       window=\"hamming\")\n",
    "ax4=fig.add_subplot(525)\n",
    "plt.hist(numpy.mean(x1[:,-20:-1],axis=1),bins=numpy.logspace(numpy.log10(10e-10),numpy.log10(10e-5), 30))\n",
    "ax4.set_xscale('log')\n",
    "ax4.set_ylim((0,15))\n",
    "ax4.set_title(\"LinP30,XX\")\n",
    "\n",
    "x1=psXmedCTim(numpy.exp(1j*(pp_linp30yy_0609[350:550,:,:,120:380])),\n",
    "                       window=\"hamming\")\n",
    "ax5=fig.add_subplot(526)\n",
    "plt.hist(numpy.mean(x1[:,-20:-1],axis=1),bins=numpy.logspace(numpy.log10(10e-10),numpy.log10(10e-5), 30))\n",
    "ax5.set_xscale('log')\n",
    "ax5.set_ylim((0,15))\n",
    "ax5.set_title(\"LinP30,YY\")\n",
    "\n",
    "x1=psXmedCTim(numpy.exp(1j*(pp_linm30xx_0609[350:550,:,:,120:380])),\n",
    "                       window=\"hamming\")\n",
    "ax6=fig.add_subplot(527)\n",
    "plt.hist(numpy.mean(x1[:,-20:-1],axis=1),bins=numpy.logspace(numpy.log10(10e-10),numpy.log10(10e-5), 30))\n",
    "ax6.set_xscale('log')\n",
    "ax6.set_ylim((0,15))\n",
    "ax6.set_title(\"LinM30,YY\")\n",
    "\n",
    "x1=psXmedCTim(numpy.exp(1j*(pp_linm30yy_0609[350:550,:,:,120:380])),\n",
    "                       window=\"hamming\")\n",
    "ax7=fig.add_subplot(528)\n",
    "plt.hist(numpy.mean(x1[:,-20:-1],axis=1),bins=numpy.logspace(numpy.log10(10e-10),numpy.log10(10e-5), 30))\n",
    "ax7.set_xscale('log')\n",
    "ax7.set_ylim((0,15))\n",
    "ax7.set_title(\"LinM30,YY\")\n",
    "\n",
    "x1=psXmedCTim(numpy.exp(1j*(pp_linewxx_0609[350:550,:,:,120:380])),\n",
    "                       window=\"hamming\")\n",
    "ax8=fig.add_subplot(529)\n",
    "ax8.hist(numpy.mean(x1[:,-20:-1],axis=1),bins=numpy.logspace(numpy.log10(10e-10),numpy.log10(10e-5), 30))\n",
    "ax8.set_xscale('log')\n",
    "ax8.set_ylim((0,15))\n",
    "ax8.set_title(\"LinEW,XX\")\n",
    "\n",
    "x1=psXmedCTim(numpy.exp(1j*(pp_linewyy_0609[350:550,:,:,120:380])),\n",
    "                       window=\"hamming\")\n",
    "ax9=fig.add_subplot(5,2,10)\n",
    "ax9.hist(numpy.mean(x1[:,-20:-1],axis=1),bins=numpy.logspace(numpy.log10(10e-10),numpy.log10(10e-5), 30))\n",
    "ax9.set_xscale('log')\n",
    "ax9.set_ylim((0,15))\n",
    "ax9.set_title(\"LinEW,YY\")\n",
    "\n",
    "fig.tight_layout()\n",
    "fig.savefig(\"lst0600_histogram.pdf\")"
   ]
  },
  {
   "cell_type": "markdown",
   "metadata": {},
   "source": [
    "# Noise Analysis"
   ]
  },
  {
   "cell_type": "code",
   "execution_count": null,
   "metadata": {},
   "outputs": [],
   "source": [
    "#We want to average the complex number, not the power, hence a small modifiation.\n",
    "def psXmedCTimNA(dcm, window=\"hann\"):\n",
    "    ps=scipy.signal.csd(dcm[:,0],\n",
    "                        dcm[:,1],\n",
    "                        nperseg=128,\n",
    "                        detrend=None,\n",
    "                           window = window)    \n",
    "    CTim=numpy.mean(ps[1], axis=0)\n",
    "    return numpy.fft.fftshift(CTim,axes=-1)/128"
   ]
  },
  {
   "cell_type": "code",
   "execution_count": null,
   "metadata": {},
   "outputs": [],
   "source": [
    "def plot_noise_averaging(power_spectrum,time_min,time_max,chan_min,chan_max,title=\"\"):\n",
    "    fig=plt.figure(figsize=(5,7.5),dpi=160)\n",
    "    x1=psXmedCTimNA(numpy.exp(1j*(power_spectrum[time_min:time_max,:,:,chan_min:chan_max])),\n",
    "                       window=\"hamming\")\n",
    "\n",
    "    x1m = numpy.mean(x1[:,-20:-1],axis=1)\n",
    "    x1m_med = numpy.median(numpy.abs(x1m))\n",
    "    numpy.random.shuffle(x1m)\n",
    "    trn = numpy.zeros(shape=x1m.shape[0], dtype=numpy.complex64)\n",
    "    trtn = numpy.zeros(shape=x1m.shape[0])\n",
    "    \n",
    "    for i in numpy.arange(x1m.shape[0]):\n",
    "            trn[i] = numpy.mean(x1m[0:i])\n",
    "            #if (i > 0):\n",
    "            trtn[i] = numpy.abs(x1m_med/numpy.sqrt(i))\n",
    "    \n",
    "    trn = numpy.nan_to_num(numpy.abs(trn))\n",
    "\n",
    "    x1mr = numpy.arange(x1m.shape[0])\n",
    "    plt.plot(x1mr,trn,label='Mean Power of Top 20 Delay bins')\n",
    "   \n",
    "    slope,intercept = numpy.polyfit(x1mr,trn,1)\n",
    "    print(slope)\n",
    "    print(intercept)\n",
    "    pld = numpy.poly1d((slope,intercept))(x1mr)\n",
    "    plt.plot(x1mr,trtn,label='Theoretical Noise Scaling')\n",
    "    plt.plot(x1mr,pld,label='Best Fit')\n",
    "    plt.ylim([10e-10,10e-4])\n",
    "    plt.title(title + \"Slope = %E, Intercept = %E\"%(slope,intercept))\n",
    "    plt.yscale('log')\n",
    "    plt.xscale('log')\n",
    "    plt.legend()\n",
    "    plt.show()\n",
    "    plt.savefig(title+\".pdf\")"
   ]
  },
  {
   "cell_type": "markdown",
   "metadata": {},
   "source": [
    "# XX in FornaxA Field"
   ]
  },
  {
   "cell_type": "code",
   "execution_count": null,
   "metadata": {},
   "outputs": [],
   "source": [
    "plot_noise_averaging(pp_eq14,200,210,120,380,title=\"EQ14 FRNXA XX, LC, \")\n",
    "plot_noise_averaging(pp_eq28,200,210,120,380,title=\"EQ28 FRNXA XX, LC, \")\n",
    "plot_noise_averaging(pp_linew,200,210,120,380,title=\"LinEW FRNXA XX, LC, \")\n",
    "plot_noise_averaging(pp_linm30,200,210,120,380,title=\"LinM30 FRNXA XX, LC, \")\n",
    "plot_noise_averaging(pp_linp30,200,210,120,380,title=\"LinP30 FRNXA XX, LC, \")\n",
    "# High Chan Range\n",
    "plot_noise_averaging(pp_eq14,200,210,515,775,title=\"EQ14 FRNXA XX, UC, \")\n",
    "plot_noise_averaging(pp_eq28,200,210,515,775,title=\"EQ28 FRNXA XX, UC, \")\n",
    "plot_noise_averaging(pp_linew,200,210,515,775,title=\"LinEW FRNXA XX, UC, \")\n",
    "plot_noise_averaging(pp_linm30,200,210,515,775,title=\"LinM30 FRNXA XX, UC, \")\n",
    "plot_noise_averaging(pp_linp30,200,210,515,775,title=\"LinP30 FRNXA XX, UC, \")"
   ]
  },
  {
   "cell_type": "markdown",
   "metadata": {},
   "source": [
    "## YY Polarisations in FornaxA Field"
   ]
  },
  {
   "cell_type": "code",
   "execution_count": null,
   "metadata": {},
   "outputs": [],
   "source": [
    "# Lower Channel\n",
    "plot_noise_averaging(pp_eq14_yy,200,220,120,380,title=\"EQ14 FRNXA YY, LC, \")\n",
    "plot_noise_averaging(pp_eq28_yy,200,220,120,380,title=\"EQ28 FRNXA YY, LC, \")\n",
    "plot_noise_averaging(pp_linew_yy,200,220,120,380,title=\"LinEW FRNXA YY, LC, \")\n",
    "plot_noise_averaging(pp_linm30_yy,200,220,120,380,title=\"LinM30 FRNXA YY, LC, \")\n",
    "plot_noise_averaging(pp_linp30_yy,200,220,120,380,title=\"LinP30 FRNXA YY, LC, \")\n",
    "# Higher Channel\n",
    "plot_noise_averaging(pp_eq14_yy,200,220,515,775,title=\"EQ14 FRNXA YY, UC, \")\n",
    "plot_noise_averaging(pp_eq28_yy,200,220,515,775,title=\"EQ28 FRNXA YY, UC, \")\n",
    "plot_noise_averaging(pp_linew_yy,200,220,515,775,title=\"LinEW FRNXA YY, UC, \")\n",
    "plot_noise_averaging(pp_linm30_yy,200,220,515,775,title=\"LinM30 FRNXA YY, UC, \")\n",
    "plot_noise_averaging(pp_linp30_yy,200,220,515,775,title=\"LinP30 FRNXA YY, UC, \")"
   ]
  },
  {
   "cell_type": "markdown",
   "metadata": {},
   "source": [
    "## XX Polarisations in 06:00-09:00 LST Field"
   ]
  },
  {
   "cell_type": "code",
   "execution_count": null,
   "metadata": {},
   "outputs": [],
   "source": [
    "# Lower Channel Range\n",
    "plot_noise_averaging(pp_eq14xx_0609,200,220,120,380,title=\"EQ14 0609 XX, LC, \")\n",
    "plot_noise_averaging(pp_eq28xx_0609,200,220,120,380,title=\"EQ28 0609 XX, LC, \")\n",
    "plot_noise_averaging(pp_linewxx_0609,200,220,120,380,title=\"LinEW 0609 XX, LC, \")\n",
    "plot_noise_averaging(pp_linm30xx_0609,200,220,120,380,title=\"LinM30 0609 XX, LC, \")\n",
    "plot_noise_averaging(pp_linp30xx_0609,200,220,120,380,title=\"LinP30 0609 XX, LC,\")\n",
    "# Upper Channel Range\n",
    "plot_noise_averaging(pp_eq14xx_0609,200,220,515,775,title=\"EQ14 0609 XX, UC, \")\n",
    "plot_noise_averaging(pp_eq28xx_0609,200,220,515,775,title=\"EQ28 0609 XX, UC, \")\n",
    "plot_noise_averaging(pp_linewxx_0609,200,220,515,775,title=\"LinEW 0609 XX, UC, \")\n",
    "plot_noise_averaging(pp_linm30xx_0609,200,220,515,775,title=\"LinM30 0609 XX, UC, \")\n",
    "plot_noise_averaging(pp_linp30xx_0609,200,220,515,775,title=\"LinP30 0609 XX, UC, \")"
   ]
  },
  {
   "cell_type": "markdown",
   "metadata": {},
   "source": [
    "## YY Polarisations in 06:00-09:00 LST Field"
   ]
  },
  {
   "cell_type": "code",
   "execution_count": null,
   "metadata": {},
   "outputs": [],
   "source": [
    "plot_noise_averaging(pp_eq14yy_0609,200,220,120,380,title=\"EQ14 0609 YY, LC, \")\n",
    "plot_noise_averaging(pp_eq28yy_0609,200,220,120,380,title=\"EQ28 0609 YY, LC, \")\n",
    "plot_noise_averaging(pp_linewyy_0609,200,220,120,380,title=\"LinEW 0609 YY, LC, \")\n",
    "plot_noise_averaging(pp_linm30yy_0609,200,220,120,380,title=\"LinM30 0609 YY, LC, \")\n",
    "plot_noise_averaging(pp_linp30yy_0609,200,220,120,380,title=\"LinP30 0609 YY, LC, \")\n",
    "\n",
    "plot_noise_averaging(pp_eq14yy_0609,200,220,515,775,title=\"EQ14 0609 YY, UC, \")\n",
    "plot_noise_averaging(pp_eq28yy_0609,200,220,515,775,title=\"EQ28 0609 YY, UC, \")\n",
    "plot_noise_averaging(pp_linewyy_0609,200,220,515,775,title=\"LinEW 0609 YY, UC, \")\n",
    "plot_noise_averaging(pp_linm30yy_0609,200,220,515,775,title=\"LinM30 0609 YY, UC, \")\n",
    "plot_noise_averaging(pp_linp30yy_0609,200,220,515,775,title=\"LinP30 0609 YY, UC, \")"
   ]
  },
  {
   "cell_type": "markdown",
   "metadata": {},
   "source": [
    "# Plots for Memo"
   ]
  },
  {
   "cell_type": "code",
   "execution_count": null,
   "metadata": {},
   "outputs": [],
   "source": [
    "def plot_noise_averaging_SP(fig,ax,power_spectrum,time_min,time_max,chan_min,chan_max,title=\"\"):\n",
    "    #fig=plt.figure(figsize=(5,7.5),dpi=160)\n",
    "    \n",
    "    x1=psXmedCTimNA(numpy.exp(1j*(power_spectrum[time_min:time_max,:,:,chan_min:chan_max])),\n",
    "                       window=\"hamming\")\n",
    "\n",
    "    x1m = numpy.mean(x1[:,-20:-1],axis=1)\n",
    "    x1m_med = numpy.median(numpy.abs(x1m))\n",
    "    #x1m = numpy.flip(x1m)\n",
    "    #numpy.random.shuffle(x1m)\n",
    "    trn = numpy.zeros(shape=x1m.shape[0], dtype=numpy.complex64)\n",
    "    trtn = numpy.zeros(shape=x1m.shape[0])\n",
    "    \n",
    "    for i in numpy.arange(x1m.shape[0]):\n",
    "            trn[i] = numpy.mean(x1m[0:i])\n",
    "            #if (i > 0):\n",
    "            #trtn[i] = numpy.abs(x1m_med/numpy.sqrt(i))\n",
    "    \n",
    "    trn = numpy.nan_to_num(numpy.abs(trn))\n",
    "\n",
    "    x1mr = numpy.arange(x1m.shape[0])\n",
    "    ax.plot(x1mr,trn,label='Mean Power')\n",
    "   \n",
    "    slope,intercept = numpy.polyfit(x1mr,trn,1)\n",
    "    print(slope)\n",
    "    print(intercept)\n",
    "    \n",
    "    for i in numpy.arange(x1m.shape[0]):\n",
    "        trtn[i] = numpy.abs(intercept/numpy.sqrt(i))\n",
    "    \n",
    "    \n",
    "    \n",
    "    pld = numpy.poly1d((slope,intercept))(x1mr)\n",
    "    ax.plot(x1mr,trtn,label='Theoretical Noise')\n",
    "    ax.plot(x1mr,pld,label='Best Fit')\n",
    "    ax.set_ylim([10e-9,10e-7])\n",
    "    ax.set_title(title)\n",
    "    ax.set_xlabel('No. of Triads')\n",
    "    ax.set_ylabel('Power')\n",
    "    ax.set_yscale('log')\n",
    "    ax.set_xscale('log')\n",
    "    #ax.legend()\n",
    "    #plt.show()\n",
    "    #plt.savefig(title+\".pdf\")"
   ]
  },
  {
   "cell_type": "markdown",
   "metadata": {},
   "source": [
    "# XX"
   ]
  },
  {
   "cell_type": "code",
   "execution_count": null,
   "metadata": {},
   "outputs": [],
   "source": [
    "fig=plt.figure(figsize=(7.5,10),dpi=160)\n",
    "\n",
    "ax0 = fig.add_subplot(521)\n",
    "plot_noise_averaging_SP(fig,ax0,pp_eq14,200,210,120,380,title=\"EQ14 FRNXA XX, LC, \")\n",
    "ax0.legend()\n",
    "ax1 = fig.add_subplot(523)\n",
    "plot_noise_averaging_SP(fig,ax1,pp_eq28,200,210,120,380,title=\"EQ28 FRNXA XX, LC, \")\n",
    "ax2 = fig.add_subplot(525)\n",
    "plot_noise_averaging_SP(fig,ax2,pp_linew,200,210,120,380,title=\"LinEW FRNXA XX, LC, \")\n",
    "ax3 = fig.add_subplot(527)\n",
    "plot_noise_averaging_SP(fig,ax3,pp_linm30,200,210,120,380,title=\"LinM30 FRNXA XX, LC, \")\n",
    "ax4 = fig.add_subplot(529)\n",
    "plot_noise_averaging_SP(fig,ax4,pp_linp30,200,210,120,380,title=\"LinP30 FRNXA XX, LC, \")\n",
    "\n",
    "# High Chan Range\n",
    "ax5 = fig.add_subplot(522)\n",
    "plot_noise_averaging_SP(fig,ax5,pp_eq14,200,210,515,775,title=\"EQ14 FRNXA XX, UC, \")\n",
    "ax6 = fig.add_subplot(524)\n",
    "plot_noise_averaging_SP(fig,ax6,pp_eq28,200,210,515,775,title=\"EQ28 FRNXA XX, UC, \")\n",
    "ax7 = fig.add_subplot(526)\n",
    "plot_noise_averaging_SP(fig,ax7,pp_linew,200,210,515,775,title=\"LinEW FRNXA XX, UC, \")\n",
    "ax8 = fig.add_subplot(528)\n",
    "plot_noise_averaging_SP(fig,ax8,pp_linm30,200,210,515,775,title=\"LinM30 FRNXA XX, UC, \")\n",
    "ax9 = fig.add_subplot(5,2,10)\n",
    "plot_noise_averaging_SP(fig,ax9,pp_linp30,200,210,515,775,title=\"LinP30 FRNXA XX, UC, \")\n",
    "\n",
    "fig.tight_layout()\n",
    "fig.savefig(\"XXnoise.pdf\")"
   ]
  },
  {
   "cell_type": "markdown",
   "metadata": {},
   "source": [
    "# YY"
   ]
  },
  {
   "cell_type": "code",
   "execution_count": null,
   "metadata": {},
   "outputs": [],
   "source": [
    "fig=plt.figure(figsize=(7.5,10),dpi=160)\n",
    "\n",
    "ax0 = fig.add_subplot(521)\n",
    "plot_noise_averaging_SP(fig,ax0,pp_eq14_yy,200,210,120,380,title=\"EQ14 FRNXA YY, LC, \")\n",
    "ax0.legend()\n",
    "ax1 = fig.add_subplot(523)\n",
    "plot_noise_averaging_SP(fig,ax1,pp_eq28_yy,200,210,120,380,title=\"EQ28 FRNXA YY, LC, \")\n",
    "ax2 = fig.add_subplot(525)\n",
    "plot_noise_averaging_SP(fig,ax2,pp_linew_yy,200,210,120,380,title=\"LinEW FRNXA YY, LC, \")\n",
    "ax3 = fig.add_subplot(527)\n",
    "plot_noise_averaging_SP(fig,ax3,pp_linm30_yy,200,210,120,380,title=\"LinM30 FRNXA YY, LC, \")\n",
    "ax4 = fig.add_subplot(529)\n",
    "plot_noise_averaging_SP(fig,ax4,pp_linp30_yy,200,210,120,380,title=\"LinP30 FRNXA YY, LC, \")\n",
    "\n",
    "# High Chan Range\n",
    "ax5 = fig.add_subplot(522)\n",
    "plot_noise_averaging_SP(fig,ax5,pp_eq14_yy,200,210,515,775,title=\"EQ14 FRNXA YY, UC, \")\n",
    "ax6 = fig.add_subplot(524)\n",
    "plot_noise_averaging_SP(fig,ax6,pp_eq28_yy,200,210,515,775,title=\"EQ28 FRNXA YY, UC, \")\n",
    "ax7 = fig.add_subplot(526)\n",
    "plot_noise_averaging_SP(fig,ax7,pp_linew_yy,200,210,515,775,title=\"LinEW FRNXA YY, UC, \")\n",
    "ax8 = fig.add_subplot(528)\n",
    "plot_noise_averaging_SP(fig,ax8,pp_linm30_yy,200,210,515,775,title=\"LinM30 FRNXA YY, UC, \")\n",
    "ax9 = fig.add_subplot(5,2,10)\n",
    "plot_noise_averaging_SP(fig,ax9,pp_linp30_yy,200,210,515,775,title=\"LinP30 FRNXA YY, UC, \")\n",
    "\n",
    "fig.tight_layout()\n",
    "fig.savefig(\"YYnoise.pdf\")"
   ]
  },
  {
   "cell_type": "code",
   "execution_count": null,
   "metadata": {},
   "outputs": [],
   "source": []
  },
  {
   "cell_type": "code",
   "execution_count": null,
   "metadata": {},
   "outputs": [],
   "source": []
  },
  {
   "cell_type": "code",
   "execution_count": null,
   "metadata": {},
   "outputs": [],
   "source": []
  }
 ],
 "metadata": {
  "kernelspec": {
   "display_name": "Python 2",
   "language": "python",
   "name": "python2"
  },
  "language_info": {
   "codemirror_mode": {
    "name": "ipython",
    "version": 2
   },
   "file_extension": ".py",
   "mimetype": "text/x-python",
   "name": "python",
   "nbconvert_exporter": "python",
   "pygments_lexer": "ipython2",
   "version": "2.7.15"
  },
  "name": "analysis-jup-150-250.ipynb"
 },
 "nbformat": 4,
 "nbformat_minor": 2
}
